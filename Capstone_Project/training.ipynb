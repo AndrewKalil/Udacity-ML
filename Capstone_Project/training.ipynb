{
 "cells": [
  {
   "cell_type": "markdown",
   "id": "b820fcaf",
   "metadata": {},
   "source": [
    "# Dimensionality Reduction\n",
    "#### Roles and Buckets"
   ]
  },
  {
   "cell_type": "code",
   "execution_count": 18,
   "id": "ace47de7",
   "metadata": {},
   "outputs": [
    {
     "name": "stdout",
     "output_type": "stream",
     "text": [
      "Collecting mxnet\n",
      "  Downloading mxnet-1.8.0.post0-py2.py3-none-manylinux2014_x86_64.whl (46.9 MB)\n",
      "\u001b[K     |████████████████████████████████| 46.9 MB 18.6 MB/s eta 0:00:01\n",
      "\u001b[?25hRequirement already satisfied: numpy<2.0.0,>1.16.0 in /home/ec2-user/anaconda3/envs/python3/lib/python3.6/site-packages (from mxnet) (1.19.5)\n",
      "Collecting graphviz<0.9.0,>=0.8.1\n",
      "  Downloading graphviz-0.8.4-py2.py3-none-any.whl (16 kB)\n",
      "Requirement already satisfied: requests<3,>=2.20.0 in /home/ec2-user/anaconda3/envs/python3/lib/python3.6/site-packages (from mxnet) (2.25.1)\n",
      "Requirement already satisfied: certifi>=2017.4.17 in /home/ec2-user/anaconda3/envs/python3/lib/python3.6/site-packages (from requests<3,>=2.20.0->mxnet) (2020.12.5)\n",
      "Requirement already satisfied: urllib3<1.27,>=1.21.1 in /home/ec2-user/anaconda3/envs/python3/lib/python3.6/site-packages (from requests<3,>=2.20.0->mxnet) (1.26.4)\n",
      "Requirement already satisfied: idna<3,>=2.5 in /home/ec2-user/anaconda3/envs/python3/lib/python3.6/site-packages (from requests<3,>=2.20.0->mxnet) (2.10)\n",
      "Requirement already satisfied: chardet<5,>=3.0.2 in /home/ec2-user/anaconda3/envs/python3/lib/python3.6/site-packages (from requests<3,>=2.20.0->mxnet) (3.0.4)\n",
      "Installing collected packages: graphviz, mxnet\n",
      "Successfully installed graphviz-0.8.4 mxnet-1.8.0.post0\n"
     ]
    }
   ],
   "source": [
    "!pip install mxnet"
   ]
  },
  {
   "cell_type": "code",
   "execution_count": 15,
   "id": "44e59d15",
   "metadata": {},
   "outputs": [],
   "source": [
    "# sagemaker libraries\n",
    "import boto3\n",
    "import sagemaker\n",
    "from sagemaker import get_execution_role\n",
    "\n",
    "# pandas and np\n",
    "import numpy as np\n",
    "import pandas as pd\n",
    "\n",
    "import os"
   ]
  },
  {
   "cell_type": "code",
   "execution_count": 8,
   "id": "fca1d16d",
   "metadata": {},
   "outputs": [
    {
     "name": "stdout",
     "output_type": "stream",
     "text": [
      "arn:aws:iam::305472246504:role/service-role/AmazonSageMaker-ExecutionRole-20210617T231874\n"
     ]
    }
   ],
   "source": [
    "session = sagemaker.Session() # store the current SageMaker session\n",
    "\n",
    "# get IAM role\n",
    "role = get_execution_role()\n",
    "print(role)"
   ]
  },
  {
   "cell_type": "code",
   "execution_count": 5,
   "id": "27c9c555",
   "metadata": {},
   "outputs": [
    {
     "name": "stdout",
     "output_type": "stream",
     "text": [
      "sagemaker-us-east-1-305472246504\n",
      "\n"
     ]
    }
   ],
   "source": [
    "# get default bucket\n",
    "bucket_name = session.default_bucket()\n",
    "print(bucket_name)\n",
    "print()"
   ]
  },
  {
   "cell_type": "markdown",
   "id": "30f3d75d",
   "metadata": {},
   "source": [
    "#### Define a PCA Model\n",
    "* role: The IAM role, which was specified, above.\n",
    "* train_instance_count: The number of training instances (typically, 1).\n",
    "* train_instance_type: The type of SageMaker instance for training.\n",
    "* num_components: An integer that defines the number of PCA components to produce.\n",
    "* sagemaker_session: The session used to train on SageMaker."
   ]
  },
  {
   "cell_type": "code",
   "execution_count": 6,
   "id": "f9b6f67a",
   "metadata": {},
   "outputs": [
    {
     "name": "stdout",
     "output_type": "stream",
     "text": [
      "Training artifacts will be uploaded to: s3://sagemaker-us-east-1-305472246504/starbucks/\n"
     ]
    }
   ],
   "source": [
    "# define location to store model artifacts\n",
    "prefix = 'starbucks'\n",
    "\n",
    "output_path='s3://{}/{}/'.format(bucket_name, prefix)\n",
    "\n",
    "print('Training artifacts will be uploaded to: {}'.format(output_path))"
   ]
  },
  {
   "cell_type": "code",
   "execution_count": 25,
   "id": "21ae9515",
   "metadata": {},
   "outputs": [
    {
     "data": {
      "text/plain": [
       "18"
      ]
     },
     "execution_count": 25,
     "metadata": {},
     "output_type": "execute_result"
    }
   ],
   "source": [
    "data_scaled.shape[1]"
   ]
  },
  {
   "cell_type": "code",
   "execution_count": 29,
   "id": "fed2da3a",
   "metadata": {},
   "outputs": [],
   "source": [
    "# define a PCA model\n",
    "from sagemaker import PCA\n",
    "\n",
    "data_scaled = pd.read_csv('saved_progress/scaled_dataset.csv')\n",
    "data_scaled.drop(columns=['Unnamed: 0'], inplace=True)\n",
    "\n",
    "# this is current features - 1\n",
    "# you'll select only a portion of these to use, later\n",
    "N_COMPONENTS = data_scaled.shape[1] - 1\n",
    "\n",
    "pca_starbucks = PCA(role=role,\n",
    "             instance_count=1,\n",
    "             instance_type='ml.p2.xlarge',\n",
    "             output_path=output_path, # specified, above\n",
    "             num_components=N_COMPONENTS, \n",
    "             sagemaker_session=session)"
   ]
  },
  {
   "cell_type": "markdown",
   "id": "acd293d8",
   "metadata": {},
   "source": [
    "#### Convert data into a RecordSet format¶\n",
    "Next, prepare the data for a built-in model by converting the DataFrame to a numpy array of float values.\n",
    "\n",
    "The record_set function in the SageMaker PCA model converts a numpy array into a RecordSet format that is the required format for the training input data. This is a requirement for all of SageMaker's built-in models. The use of this data type is one of the reasons that allows training of models within Amazon SageMaker to perform faster, especially for large datasets."
   ]
  },
  {
   "cell_type": "code",
   "execution_count": 30,
   "id": "74c4a7c5",
   "metadata": {},
   "outputs": [],
   "source": [
    "# convert df to np array\n",
    "train_data_np = data_scaled.values.astype('float32')\n",
    "\n",
    "# convert to RecordSet format\n",
    "formatted_train_data = pca_starbucks.record_set(train_data_np)"
   ]
  },
  {
   "cell_type": "markdown",
   "id": "d1543a3a",
   "metadata": {},
   "source": [
    "#### Train the model"
   ]
  },
  {
   "cell_type": "code",
   "execution_count": 31,
   "id": "ec048d0a",
   "metadata": {},
   "outputs": [
    {
     "name": "stderr",
     "output_type": "stream",
     "text": [
      "Defaulting to the only supported framework/algorithm version: 1. Ignoring framework/algorithm version: 1.\n",
      "Defaulting to the only supported framework/algorithm version: 1. Ignoring framework/algorithm version: 1.\n"
     ]
    },
    {
     "name": "stdout",
     "output_type": "stream",
     "text": [
      "2021-06-18 05:52:03 Starting - Starting the training job...\n",
      "2021-06-18 05:52:30 Starting - Launching requested ML instancesProfilerReport-1623995523: InProgress\n",
      "...\n",
      "2021-06-18 05:53:03 Starting - Preparing the instances for training............\n",
      "2021-06-18 05:55:04 Downloading - Downloading input data...\n",
      "2021-06-18 05:55:31 Training - Downloading the training image..\u001b[34mDocker entrypoint called with argument(s): train\u001b[0m\n",
      "\u001b[34mRunning default environment configuration script\u001b[0m\n",
      "\u001b[34m[06/18/2021 05:55:46 INFO 140045461944128] Reading default configuration from /opt/amazon/lib/python3.7/site-packages/algorithm/resources/default-conf.json: {'algorithm_mode': 'regular', 'subtract_mean': 'true', 'extra_components': '-1', 'force_dense': 'true', 'epochs': 1, '_log_level': 'info', '_kvstore': 'dist_sync', '_num_kv_servers': 'auto', '_num_gpus': 'auto'}\u001b[0m\n",
      "\u001b[34m[06/18/2021 05:55:46 INFO 140045461944128] Merging with provided configuration from /opt/ml/input/config/hyperparameters.json: {'feature_dim': '17', 'num_components': '16', 'mini_batch_size': '500'}\u001b[0m\n",
      "\u001b[34m[06/18/2021 05:55:46 INFO 140045461944128] Final configuration: {'algorithm_mode': 'regular', 'subtract_mean': 'true', 'extra_components': '-1', 'force_dense': 'true', 'epochs': 1, '_log_level': 'info', '_kvstore': 'dist_sync', '_num_kv_servers': 'auto', '_num_gpus': 'auto', 'feature_dim': '17', 'num_components': '16', 'mini_batch_size': '500'}\u001b[0m\n",
      "\u001b[34m[06/18/2021 05:55:46 WARNING 140045461944128] Loggers have already been setup.\u001b[0m\n",
      "\u001b[34m[06/18/2021 05:55:46 INFO 140045461944128] Launching parameter server for role scheduler\u001b[0m\n",
      "\u001b[34m[06/18/2021 05:55:46 INFO 140045461944128] {'ENVROOT': '/opt/amazon', 'PROTOCOL_BUFFERS_PYTHON_IMPLEMENTATION': 'cpp', 'HOSTNAME': 'ip-10-0-163-219.ec2.internal', 'TRAINING_JOB_NAME': 'pca-2021-06-18-05-52-03-430', 'NVIDIA_REQUIRE_CUDA': 'cuda>=9.0', 'TRAINING_JOB_ARN': 'arn:aws:sagemaker:us-east-1:305472246504:training-job/pca-2021-06-18-05-52-03-430', 'AWS_CONTAINER_CREDENTIALS_RELATIVE_URI': '/v2/credentials/b13806be-de2b-425d-8c9b-ca8014558381', 'CANONICAL_ENVROOT': '/opt/amazon', 'PYTHONUNBUFFERED': 'TRUE', 'NVIDIA_VISIBLE_DEVICES': 'all', 'LD_LIBRARY_PATH': '/opt/amazon/lib/python3.7/site-packages/cv2/../../../../lib:/usr/local/nvidia/lib64:/opt/amazon/lib', 'NVIDIA_DRIVER_CAPABILITIES': 'compute,utility,compat32,graphics,video', 'AWS_EXECUTION_ENV': 'AWS_ECS_EC2', 'PATH': '/opt/amazon/bin:/usr/local/nvidia/bin:/usr/local/sbin:/usr/local/bin:/usr/sbin:/usr/bin:/sbin:/bin:/opt/amazon/bin:/opt/amazon/bin', 'PWD': '/', 'LANG': 'en_US.utf8', 'AWS_REGION': 'us-east-1', 'HOME': '/root', 'SHLVL': '1', 'PROTOCOL_BUFFERS_PYTHON_IMPLEMENTATION_VERSION': '2', 'OMP_NUM_THREADS': '2', 'ECS_CONTAINER_METADATA_URI': 'http://169.254.170.2/v3/e2fb27ca-aa2d-43ad-b0b5-9d9966480228', 'DMLC_INTERFACE': 'eth0', 'ECS_CONTAINER_METADATA_URI_V4': 'http://169.254.170.2/v4/e2fb27ca-aa2d-43ad-b0b5-9d9966480228', 'SAGEMAKER_HTTP_PORT': '8080', 'SAGEMAKER_DATA_PATH': '/opt/ml'}\u001b[0m\n",
      "\u001b[34m[06/18/2021 05:55:46 INFO 140045461944128] envs={'ENVROOT': '/opt/amazon', 'PROTOCOL_BUFFERS_PYTHON_IMPLEMENTATION': 'cpp', 'HOSTNAME': 'ip-10-0-163-219.ec2.internal', 'TRAINING_JOB_NAME': 'pca-2021-06-18-05-52-03-430', 'NVIDIA_REQUIRE_CUDA': 'cuda>=9.0', 'TRAINING_JOB_ARN': 'arn:aws:sagemaker:us-east-1:305472246504:training-job/pca-2021-06-18-05-52-03-430', 'AWS_CONTAINER_CREDENTIALS_RELATIVE_URI': '/v2/credentials/b13806be-de2b-425d-8c9b-ca8014558381', 'CANONICAL_ENVROOT': '/opt/amazon', 'PYTHONUNBUFFERED': 'TRUE', 'NVIDIA_VISIBLE_DEVICES': 'all', 'LD_LIBRARY_PATH': '/opt/amazon/lib/python3.7/site-packages/cv2/../../../../lib:/usr/local/nvidia/lib64:/opt/amazon/lib', 'NVIDIA_DRIVER_CAPABILITIES': 'compute,utility,compat32,graphics,video', 'AWS_EXECUTION_ENV': 'AWS_ECS_EC2', 'PATH': '/opt/amazon/bin:/usr/local/nvidia/bin:/usr/local/sbin:/usr/local/bin:/usr/sbin:/usr/bin:/sbin:/bin:/opt/amazon/bin:/opt/amazon/bin', 'PWD': '/', 'LANG': 'en_US.utf8', 'AWS_REGION': 'us-east-1', 'HOME': '/root', 'SHLVL': '1', 'PROTOCOL_BUFFERS_PYTHON_IMPLEMENTATION_VERSION': '2', 'OMP_NUM_THREADS': '2', 'ECS_CONTAINER_METADATA_URI': 'http://169.254.170.2/v3/e2fb27ca-aa2d-43ad-b0b5-9d9966480228', 'DMLC_INTERFACE': 'eth0', 'ECS_CONTAINER_METADATA_URI_V4': 'http://169.254.170.2/v4/e2fb27ca-aa2d-43ad-b0b5-9d9966480228', 'SAGEMAKER_HTTP_PORT': '8080', 'SAGEMAKER_DATA_PATH': '/opt/ml', 'DMLC_ROLE': 'scheduler', 'DMLC_PS_ROOT_URI': '10.0.163.219', 'DMLC_PS_ROOT_PORT': '9000', 'DMLC_NUM_SERVER': '1', 'DMLC_NUM_WORKER': '1'}\u001b[0m\n",
      "\u001b[34m[06/18/2021 05:55:46 INFO 140045461944128] Launching parameter server for role server\u001b[0m\n",
      "\u001b[34m[06/18/2021 05:55:46 INFO 140045461944128] {'ENVROOT': '/opt/amazon', 'PROTOCOL_BUFFERS_PYTHON_IMPLEMENTATION': 'cpp', 'HOSTNAME': 'ip-10-0-163-219.ec2.internal', 'TRAINING_JOB_NAME': 'pca-2021-06-18-05-52-03-430', 'NVIDIA_REQUIRE_CUDA': 'cuda>=9.0', 'TRAINING_JOB_ARN': 'arn:aws:sagemaker:us-east-1:305472246504:training-job/pca-2021-06-18-05-52-03-430', 'AWS_CONTAINER_CREDENTIALS_RELATIVE_URI': '/v2/credentials/b13806be-de2b-425d-8c9b-ca8014558381', 'CANONICAL_ENVROOT': '/opt/amazon', 'PYTHONUNBUFFERED': 'TRUE', 'NVIDIA_VISIBLE_DEVICES': 'all', 'LD_LIBRARY_PATH': '/opt/amazon/lib/python3.7/site-packages/cv2/../../../../lib:/usr/local/nvidia/lib64:/opt/amazon/lib', 'NVIDIA_DRIVER_CAPABILITIES': 'compute,utility,compat32,graphics,video', 'AWS_EXECUTION_ENV': 'AWS_ECS_EC2', 'PATH': '/opt/amazon/bin:/usr/local/nvidia/bin:/usr/local/sbin:/usr/local/bin:/usr/sbin:/usr/bin:/sbin:/bin:/opt/amazon/bin:/opt/amazon/bin', 'PWD': '/', 'LANG': 'en_US.utf8', 'AWS_REGION': 'us-east-1', 'HOME': '/root', 'SHLVL': '1', 'PROTOCOL_BUFFERS_PYTHON_IMPLEMENTATION_VERSION': '2', 'OMP_NUM_THREADS': '2', 'ECS_CONTAINER_METADATA_URI': 'http://169.254.170.2/v3/e2fb27ca-aa2d-43ad-b0b5-9d9966480228', 'DMLC_INTERFACE': 'eth0', 'ECS_CONTAINER_METADATA_URI_V4': 'http://169.254.170.2/v4/e2fb27ca-aa2d-43ad-b0b5-9d9966480228', 'SAGEMAKER_HTTP_PORT': '8080', 'SAGEMAKER_DATA_PATH': '/opt/ml'}\u001b[0m\n",
      "\u001b[34m[06/18/2021 05:55:46 INFO 140045461944128] envs={'ENVROOT': '/opt/amazon', 'PROTOCOL_BUFFERS_PYTHON_IMPLEMENTATION': 'cpp', 'HOSTNAME': 'ip-10-0-163-219.ec2.internal', 'TRAINING_JOB_NAME': 'pca-2021-06-18-05-52-03-430', 'NVIDIA_REQUIRE_CUDA': 'cuda>=9.0', 'TRAINING_JOB_ARN': 'arn:aws:sagemaker:us-east-1:305472246504:training-job/pca-2021-06-18-05-52-03-430', 'AWS_CONTAINER_CREDENTIALS_RELATIVE_URI': '/v2/credentials/b13806be-de2b-425d-8c9b-ca8014558381', 'CANONICAL_ENVROOT': '/opt/amazon', 'PYTHONUNBUFFERED': 'TRUE', 'NVIDIA_VISIBLE_DEVICES': 'all', 'LD_LIBRARY_PATH': '/opt/amazon/lib/python3.7/site-packages/cv2/../../../../lib:/usr/local/nvidia/lib64:/opt/amazon/lib', 'NVIDIA_DRIVER_CAPABILITIES': 'compute,utility,compat32,graphics,video', 'AWS_EXECUTION_ENV': 'AWS_ECS_EC2', 'PATH': '/opt/amazon/bin:/usr/local/nvidia/bin:/usr/local/sbin:/usr/local/bin:/usr/sbin:/usr/bin:/sbin:/bin:/opt/amazon/bin:/opt/amazon/bin', 'PWD': '/', 'LANG': 'en_US.utf8', 'AWS_REGION': 'us-east-1', 'HOME': '/root', 'SHLVL': '1', 'PROTOCOL_BUFFERS_PYTHON_IMPLEMENTATION_VERSION': '2', 'OMP_NUM_THREADS': '2', 'ECS_CONTAINER_METADATA_URI': 'http://169.254.170.2/v3/e2fb27ca-aa2d-43ad-b0b5-9d9966480228', 'DMLC_INTERFACE': 'eth0', 'ECS_CONTAINER_METADATA_URI_V4': 'http://169.254.170.2/v4/e2fb27ca-aa2d-43ad-b0b5-9d9966480228', 'SAGEMAKER_HTTP_PORT': '8080', 'SAGEMAKER_DATA_PATH': '/opt/ml', 'DMLC_ROLE': 'server', 'DMLC_PS_ROOT_URI': '10.0.163.219', 'DMLC_PS_ROOT_PORT': '9000', 'DMLC_NUM_SERVER': '1', 'DMLC_NUM_WORKER': '1'}\u001b[0m\n",
      "\u001b[34m[06/18/2021 05:55:46 INFO 140045461944128] Environment: {'ENVROOT': '/opt/amazon', 'PROTOCOL_BUFFERS_PYTHON_IMPLEMENTATION': 'cpp', 'HOSTNAME': 'ip-10-0-163-219.ec2.internal', 'TRAINING_JOB_NAME': 'pca-2021-06-18-05-52-03-430', 'NVIDIA_REQUIRE_CUDA': 'cuda>=9.0', 'TRAINING_JOB_ARN': 'arn:aws:sagemaker:us-east-1:305472246504:training-job/pca-2021-06-18-05-52-03-430', 'AWS_CONTAINER_CREDENTIALS_RELATIVE_URI': '/v2/credentials/b13806be-de2b-425d-8c9b-ca8014558381', 'CANONICAL_ENVROOT': '/opt/amazon', 'PYTHONUNBUFFERED': 'TRUE', 'NVIDIA_VISIBLE_DEVICES': 'all', 'LD_LIBRARY_PATH': '/opt/amazon/lib/python3.7/site-packages/cv2/../../../../lib:/usr/local/nvidia/lib64:/opt/amazon/lib', 'NVIDIA_DRIVER_CAPABILITIES': 'compute,utility,compat32,graphics,video', 'AWS_EXECUTION_ENV': 'AWS_ECS_EC2', 'PATH': '/opt/amazon/bin:/usr/local/nvidia/bin:/usr/local/sbin:/usr/local/bin:/usr/sbin:/usr/bin:/sbin:/bin:/opt/amazon/bin:/opt/amazon/bin', 'PWD': '/', 'LANG': 'en_US.utf8', 'AWS_REGION': 'us-east-1', 'HOME': '/root', 'SHLVL': '1', 'PROTOCOL_BUFFERS_PYTHON_IMPLEMENTATION_VERSION': '2', 'OMP_NUM_THREADS': '2', 'ECS_CONTAINER_METADATA_URI': 'http://169.254.170.2/v3/e2fb27ca-aa2d-43ad-b0b5-9d9966480228', 'DMLC_INTERFACE': 'eth0', 'ECS_CONTAINER_METADATA_URI_V4': 'http://169.254.170.2/v4/e2fb27ca-aa2d-43ad-b0b5-9d9966480228', 'SAGEMAKER_HTTP_PORT': '8080', 'SAGEMAKER_DATA_PATH': '/opt/ml', 'DMLC_ROLE': 'worker', 'DMLC_PS_ROOT_URI': '10.0.163.219', 'DMLC_PS_ROOT_PORT': '9000', 'DMLC_NUM_SERVER': '1', 'DMLC_NUM_WORKER': '1'}\u001b[0m\n",
      "\u001b[34mProcess 33 is a shell:scheduler.\u001b[0m\n",
      "\u001b[34mProcess 45 is a shell:server.\u001b[0m\n",
      "\u001b[34mProcess 1 is a worker.\u001b[0m\n",
      "\u001b[34m[06/18/2021 05:55:46 INFO 140045461944128] Using default worker.\u001b[0m\n",
      "\u001b[34m[06/18/2021 05:55:46 INFO 140045461944128] Loaded iterator creator application/x-labeled-vector-protobuf for content type ('application/x-labeled-vector-protobuf', '1.0')\u001b[0m\n",
      "\u001b[34m[06/18/2021 05:55:46 INFO 140045461944128] Loaded iterator creator application/x-recordio-protobuf for content type ('application/x-recordio-protobuf', '1.0')\u001b[0m\n",
      "\u001b[34m[06/18/2021 05:55:46 INFO 140045461944128] Loaded iterator creator protobuf for content type ('protobuf', '1.0')\u001b[0m\n",
      "\u001b[34m[06/18/2021 05:55:46 INFO 140045461944128] Checkpoint loading and saving are disabled.\u001b[0m\n",
      "\u001b[34m[06/18/2021 05:55:46 INFO 140045461944128] Create Store: dist_sync\u001b[0m\n",
      "\u001b[34m[06/18/2021 05:55:47 INFO 140045461944128] nvidia-smi: took 0.105 seconds to run.\u001b[0m\n",
      "\u001b[34m[06/18/2021 05:55:47 INFO 140045461944128] nvidia-smi identified 1 GPUs.\u001b[0m\n",
      "\u001b[34m[06/18/2021 05:55:47 INFO 140045461944128] Number of GPUs being used: 1\u001b[0m\n",
      "\u001b[34m[06/18/2021 05:55:47 INFO 140045461944128] The default executor is <PCAExecutor on gpu(0)>.\u001b[0m\n",
      "\u001b[34m[06/18/2021 05:55:47 INFO 140045461944128] 17 feature(s) found in 'data'.\u001b[0m\n",
      "\u001b[34m[06/18/2021 05:55:48 INFO 140045461944128] <PCAExecutor on gpu(0)> is assigned to batch slice from 0 to 499.\u001b[0m\n",
      "\n",
      "2021-06-18 05:56:01 Uploading - Uploading generated training model\n",
      "2021-06-18 05:56:01 Completed - Training job completed\n",
      "\u001b[34m#metrics {\"StartTime\": 1623995746.2697291, \"EndTime\": 1623995753.3583302, \"Dimensions\": {\"Algorithm\": \"PCA\", \"Host\": \"algo-1\", \"Operation\": \"training\"}, \"Metrics\": {\"initialize.time\": {\"sum\": 7083.885669708252, \"count\": 1, \"min\": 7083.885669708252, \"max\": 7083.885669708252}}}\n",
      "\u001b[0m\n",
      "\u001b[34m#metrics {\"StartTime\": 1623995753.3585653, \"EndTime\": 1623995753.3586218, \"Dimensions\": {\"Algorithm\": \"PCA\", \"Host\": \"algo-1\", \"Operation\": \"training\", \"Meta\": \"init_train_data_iter\"}, \"Metrics\": {\"Total Records Seen\": {\"sum\": 0.0, \"count\": 1, \"min\": 0, \"max\": 0}, \"Total Batches Seen\": {\"sum\": 0.0, \"count\": 1, \"min\": 0, \"max\": 0}, \"Max Records Seen Between Resets\": {\"sum\": 0.0, \"count\": 1, \"min\": 0, \"max\": 0}, \"Max Batches Seen Between Resets\": {\"sum\": 0.0, \"count\": 1, \"min\": 0, \"max\": 0}, \"Reset Count\": {\"sum\": 0.0, \"count\": 1, \"min\": 0, \"max\": 0}, \"Number of Records Since Last Reset\": {\"sum\": 0.0, \"count\": 1, \"min\": 0, \"max\": 0}, \"Number of Batches Since Last Reset\": {\"sum\": 0.0, \"count\": 1, \"min\": 0, \"max\": 0}}}\n",
      "\u001b[0m\n",
      "\u001b[34m[2021-06-18 05:55:53.359] [tensorio] [info] epoch_stats={\"data_pipeline\": \"/opt/ml/input/data/train\", \"epoch\": 0, \"duration\": 7088, \"num_examples\": 1, \"num_bytes\": 46000}\u001b[0m\n",
      "\u001b[34m[2021-06-18 05:55:53.398] [tensorio] [info] epoch_stats={\"data_pipeline\": \"/opt/ml/input/data/train\", \"epoch\": 1, \"duration\": 27, \"num_examples\": 29, \"num_bytes\": 1332804}\u001b[0m\n",
      "\u001b[34m#metrics {\"StartTime\": 1623995753.3584948, \"EndTime\": 1623995753.3988636, \"Dimensions\": {\"Algorithm\": \"PCA\", \"Host\": \"algo-1\", \"Operation\": \"training\"}, \"Metrics\": {\"epochs\": {\"sum\": 1.0, \"count\": 1, \"min\": 1, \"max\": 1}, \"update.time\": {\"sum\": 39.527177810668945, \"count\": 1, \"min\": 39.527177810668945, \"max\": 39.527177810668945}}}\n",
      "\u001b[0m\n",
      "\u001b[34m[06/18/2021 05:55:53 INFO 140045461944128] #progress_metric: host=algo-1, completed 100.0 % of epochs\u001b[0m\n",
      "\u001b[34m#metrics {\"StartTime\": 1623995753.35929, \"EndTime\": 1623995753.3993025, \"Dimensions\": {\"Algorithm\": \"PCA\", \"Host\": \"algo-1\", \"Operation\": \"training\", \"epoch\": 0, \"Meta\": \"training_data_iter\"}, \"Metrics\": {\"Total Records Seen\": {\"sum\": 14487.0, \"count\": 1, \"min\": 14487, \"max\": 14487}, \"Total Batches Seen\": {\"sum\": 29.0, \"count\": 1, \"min\": 29, \"max\": 29}, \"Max Records Seen Between Resets\": {\"sum\": 14487.0, \"count\": 1, \"min\": 14487, \"max\": 14487}, \"Max Batches Seen Between Resets\": {\"sum\": 29.0, \"count\": 1, \"min\": 29, \"max\": 29}, \"Reset Count\": {\"sum\": 1.0, \"count\": 1, \"min\": 1, \"max\": 1}, \"Number of Records Since Last Reset\": {\"sum\": 14487.0, \"count\": 1, \"min\": 14487, \"max\": 14487}, \"Number of Batches Since Last Reset\": {\"sum\": 29.0, \"count\": 1, \"min\": 29, \"max\": 29}}}\n",
      "\u001b[0m\n",
      "\u001b[34m[06/18/2021 05:55:53 INFO 140045461944128] #throughput_metric: host=algo-1, train throughput=360668.36851008766 records/second\u001b[0m\n",
      "\u001b[34m#metrics {\"StartTime\": 1623995753.3989677, \"EndTime\": 1623995753.411262, \"Dimensions\": {\"Algorithm\": \"PCA\", \"Host\": \"algo-1\", \"Operation\": \"training\"}, \"Metrics\": {\"finalize.time\": {\"sum\": 11.446714401245117, \"count\": 1, \"min\": 11.446714401245117, \"max\": 11.446714401245117}}}\n",
      "\u001b[0m\n",
      "\u001b[34m[06/18/2021 05:55:53 INFO 140045461944128] Test data is not provided.\u001b[0m\n",
      "\u001b[34m#metrics {\"StartTime\": 1623995753.411343, \"EndTime\": 1623995753.412315, \"Dimensions\": {\"Algorithm\": \"PCA\", \"Host\": \"algo-1\", \"Operation\": \"training\"}, \"Metrics\": {\"setuptime\": {\"sum\": 31.12626075744629, \"count\": 1, \"min\": 31.12626075744629, \"max\": 31.12626075744629}, \"totaltime\": {\"sum\": 7408.2183837890625, \"count\": 1, \"min\": 7408.2183837890625, \"max\": 7408.2183837890625}}}\n",
      "\u001b[0m\n",
      "Training seconds: 57\n",
      "Billable seconds: 57\n",
      "CPU times: user 512 ms, sys: 50.6 ms, total: 563 ms\n",
      "Wall time: 4min 12s\n"
     ]
    }
   ],
   "source": [
    "%%time\n",
    "\n",
    "# train the PCA mode on the formatted data\n",
    "pca_starbucks.fit(formatted_train_data)"
   ]
  },
  {
   "cell_type": "code",
   "execution_count": 37,
   "id": "268143b1",
   "metadata": {},
   "outputs": [
    {
     "name": "stdout",
     "output_type": "stream",
     "text": [
      "starbucks/pca-2021-06-18-05-52-03-430/output/model.tar.gz\n"
     ]
    },
    {
     "data": {
      "text/plain": [
       "2304"
      ]
     },
     "execution_count": 37,
     "metadata": {},
     "output_type": "execute_result"
    }
   ],
   "source": [
    "# Get the name of the training job, it's suggested that you copy-paste\n",
    "# from the notebook or from a specific job in the AWS console\n",
    "training_job_name='pca-2021-06-18-05-52-03-430'\n",
    "\n",
    "# where the model is saved, by default\n",
    "model_key = os.path.join(prefix, training_job_name, 'output/model.tar.gz')\n",
    "print(model_key)\n",
    "\n",
    "# download and unzip model\n",
    "boto3.resource('s3').Bucket(bucket_name).download_file(model_key, 'model.tar.gz')\n",
    "\n",
    "# unzipping as model_algo-1\n",
    "os.system('tar -zxvf model.tar.gz')\n",
    "os.system('unzip model_algo-1')"
   ]
  },
  {
   "cell_type": "code",
   "execution_count": 38,
   "id": "2b4e9266",
   "metadata": {},
   "outputs": [
    {
     "name": "stdout",
     "output_type": "stream",
     "text": [
      "{'s': \n",
      "[  8.429521  26.027431  26.81646   36.325542  49.304764  60.88973\n",
      "  69.86713  117.247246 141.33946  176.21779  205.10966  210.07256\n",
      " 232.26009  275.1433   312.74768  460.00626 ]\n",
      "<NDArray 16 @cpu(0)>, 'v': \n",
      "[[ 3.18557839e-03 -7.81635791e-02  7.37826107e-03  1.40297518e-03\n",
      "  -1.12440594e-01  9.88959193e-01 -2.08910443e-02  1.02859633e-02\n",
      "  -8.66883621e-03  5.61253866e-03 -2.89129708e-02  2.43291054e-02\n",
      "  -7.57212471e-03  2.10041888e-02  2.93655996e-03 -2.35308390e-02]\n",
      " [-8.78858939e-02 -9.89152968e-01 -6.20757565e-02  9.91216861e-03\n",
      "  -2.15466525e-02 -7.78500810e-02 -1.01529974e-02 -4.63129254e-03\n",
      "   2.67041917e-03 -2.45285942e-03  3.01984232e-02 -2.09360085e-02\n",
      "   7.42787262e-03 -9.99702793e-03  1.75119052e-03  1.87980253e-02]\n",
      " [-2.28298791e-02  1.39766140e-02  9.04494673e-02  8.38360250e-01\n",
      "  -9.33418646e-02  5.99262057e-05 -2.11296249e-02 -2.47032389e-01\n",
      "  -1.42061897e-02  1.79974988e-01 -2.54638307e-02  5.52906953e-02\n",
      "  -7.09493160e-02 -1.94553122e-01 -1.72387194e-02  3.72229367e-01]\n",
      " [-1.63447310e-03  4.84705195e-02 -7.38258839e-01 -1.12631887e-01\n",
      "  -1.93924949e-01 -1.83094200e-02 -2.64353715e-02 -2.71361262e-01\n",
      "   7.43753696e-03  2.36944214e-01  1.02683730e-01  2.03092501e-01\n",
      "  -3.04296523e-01  3.07486415e-01 -7.78722391e-02  1.62652567e-01]\n",
      " [-6.10629912e-04 -3.51841860e-02  5.45584321e-01 -3.51294667e-01\n",
      "  -1.18524149e-01 -2.19020471e-02 -4.39781286e-02 -3.83548051e-01\n",
      "   1.39931306e-01  5.74086368e-01  2.86406204e-02  1.42284423e-01\n",
      "  -2.04916731e-01 -8.65343586e-03 -2.12100726e-02  3.71600650e-02]\n",
      " [ 9.34012473e-01 -6.81798980e-02  1.93383181e-04  1.91581622e-02\n",
      "  -1.93380844e-02 -9.58912354e-03 -2.83211842e-03 -7.02176197e-03\n",
      "   5.21090289e-04 -6.03646971e-04  6.75755553e-04 -1.07696187e-03\n",
      "  -2.11322593e-04 -3.91829712e-03 -8.10586207e-04  1.09568387e-02]\n",
      " [ 3.45048547e-01 -6.43404201e-02 -6.61620125e-03  2.30060983e-03\n",
      "  -5.57425199e-03 -8.24435428e-03 -1.89379882e-03 -1.25902554e-03\n",
      "   2.94494355e-04 -8.68677802e-04  2.57151015e-03 -2.03500432e-03\n",
      "   7.66609679e-04 -1.10777363e-03 -2.20253874e-04  3.16015747e-03]\n",
      " [ 1.17959296e-02 -2.36364417e-02 -5.22832237e-02  2.17573228e-03\n",
      "   5.53187370e-01  7.18718097e-02  6.62479937e-01 -3.33631895e-02\n",
      "  -3.19565326e-01  2.65799671e-01 -9.95300636e-02 -1.86596856e-01\n",
      "  -1.57397926e-01  4.15510014e-02 -1.31775206e-02  3.49034034e-02]\n",
      " [ 1.22038415e-02 -1.43702151e-02 -7.84451142e-02 -1.22263492e-03\n",
      "   7.37191081e-01  7.07394406e-02 -5.22953689e-01  1.26494970e-02\n",
      "   5.24515361e-02  5.99509291e-02  1.28598899e-01  3.41763705e-01\n",
      "  -8.02034363e-02 -1.57706574e-01 -2.06368929e-03  1.99277662e-02]\n",
      " [ 7.10682245e-04  3.43465619e-02  3.94376833e-03  1.68283784e-03\n",
      "   8.59975722e-03  4.24352661e-02  1.09342020e-03  1.51488679e-02\n",
      "  -2.20569270e-03  8.95154923e-02  9.08198059e-01 -3.85272831e-01\n",
      "   8.75498131e-02 -4.42346521e-02  3.97451548e-03  7.60308728e-02]\n",
      " [ 5.39829663e-04  1.71449804e-03 -3.03376443e-03  6.03194116e-03\n",
      "   3.21278675e-03 -4.29016538e-03 -1.76263193e-03 -6.24603219e-03\n",
      "  -1.12800272e-02  1.92210693e-02  1.29500385e-02  3.91058363e-02\n",
      "  -2.65722554e-02  1.28984183e-01  9.87116635e-01  7.71002397e-02]\n",
      " [-2.26359174e-04  5.67952543e-03 -1.56004520e-04  1.40470276e-02\n",
      "  -8.65142941e-02 -2.26126667e-02 -3.60384524e-01  5.83789110e-01\n",
      "  -1.55138314e-01  3.65529805e-01 -1.94130287e-01 -4.14958954e-01\n",
      "  -3.61024499e-01  5.80380931e-02 -1.50032099e-02  1.39992341e-01]\n",
      " [ 8.82589724e-04 -5.32971462e-03  1.01510389e-02  1.49502931e-02\n",
      "  -1.16231270e-01 -1.51338447e-02  3.37789863e-01  6.06645584e-01\n",
      "   1.79722875e-01  2.32927516e-01  1.89584777e-01  5.83100498e-01\n",
      "   1.02573067e-01 -9.29041877e-02 -1.99790895e-02  1.47407472e-01]\n",
      " [-1.79805188e-03 -2.58989707e-02  3.67339164e-01  5.78997508e-02\n",
      "   5.43600507e-02 -8.73862579e-03 -1.09753963e-02  6.14184998e-02\n",
      "  -2.17262387e-01 -3.88999134e-01  1.59180224e-01  1.99443385e-01\n",
      "  -3.03651214e-01  6.42290235e-01 -1.16987512e-01  2.68408865e-01]\n",
      " [-2.58045737e-03  1.45933423e-02 -2.95567457e-02 -3.95780206e-01\n",
      "  -4.39661331e-02  2.25256346e-02  4.98762587e-03 -5.39451614e-02\n",
      "  -2.04847008e-01 -2.32822523e-01 -7.63328522e-02 -2.72398759e-02\n",
      "   5.16722724e-02 -4.09371287e-01  2.71587097e-03  7.50925839e-01]\n",
      " [-1.38083659e-03 -1.64282112e-03  1.60655510e-02  9.32599977e-03\n",
      "  -1.41813591e-01 -1.50498636e-02  1.12134866e-01  8.58507957e-03\n",
      "  -1.14451356e-01 -2.75687397e-01  1.52409509e-01  1.23331636e-01\n",
      "  -7.15770781e-01 -4.76109117e-01  6.49530441e-02 -3.09670776e-01]\n",
      " [-1.55164453e-03  1.07663602e-03  9.70113184e-03  6.17220253e-03\n",
      "  -1.74858212e-01 -3.72126661e-02 -1.65246531e-01 -3.04083992e-02\n",
      "  -8.46428752e-01  1.72711179e-01  8.23067874e-02  2.54761219e-01\n",
      "   2.69492567e-01 -5.45532629e-02  6.85163634e-03 -2.14651406e-01]]\n",
      "<NDArray 17x16 @cpu(0)>, 'mean': \n",
      "[[0.6006765  0.39133328 2.239525   3.3632913  4.4881616  0.07415815\n",
      "  0.03271471 1.4897494  1.490992   3.961897   2.9686615  1.2723131\n",
      "  1.2296542  7.027473   4.694899   3.3824117  3.5972252 ]]\n",
      "<NDArray 1x17 @cpu(0)>}\n"
     ]
    }
   ],
   "source": [
    "import mxnet as mx\n",
    "\n",
    "# loading the unzipped artifacts\n",
    "pca_model_params = mx.ndarray.load('model_algo-1')\n",
    "\n",
    "# what are the params\n",
    "print(pca_model_params)"
   ]
  },
  {
   "cell_type": "markdown",
   "id": "753a03f3",
   "metadata": {},
   "source": [
    "#### PCA Model Attributes\n",
    "Three types of model attributes are contained within the PCA model.\n",
    "\n",
    "**mean**: The mean that was subtracted from a component in order to center it.\n",
    "\n",
    "**v**: The makeup of the principal components; (same as ‘components_’ in an sklearn PCA model).\n",
    "\n",
    "**s**: The singular values of the components for the PCA transformation. This does not exactly give the % variance from the original feature space, but can give the % variance from the projected feature space.\n",
    "\n",
    "We are only interested in v and s."
   ]
  },
  {
   "cell_type": "code",
   "execution_count": 39,
   "id": "8c5fb589",
   "metadata": {},
   "outputs": [],
   "source": [
    "# get selected params\n",
    "s=pd.DataFrame(pca_model_params['s'].asnumpy())\n",
    "v=pd.DataFrame(pca_model_params['v'].asnumpy())"
   ]
  },
  {
   "cell_type": "markdown",
   "id": "3960f96c",
   "metadata": {},
   "source": [
    "#### Data Variance\n",
    "Our current PCA model creates 33 principal components, but when we create new dimensionality-reduced training data, we'll only select a few, top n components to use. To decide how many top components to include, it's helpful to look at how much data variance the components capture.\n",
    "\n",
    "\n",
    "\n",
    "When we select the top n components to use in a new data model, we'll typically want to include enough components to capture about 80-90% of the original data variance. In this project, we are looking at generalizing over a lot of data and we'll aim for about 85% coverage.\n",
    "\n",
    "Note: The top principal components, with the largest s values, are actually at the end of the s DataFrame. Let's print out the s values for the top n, principal components."
   ]
  },
  {
   "cell_type": "code",
   "execution_count": 40,
   "id": "1888c052",
   "metadata": {},
   "outputs": [
    {
     "name": "stdout",
     "output_type": "stream",
     "text": [
      "             0\n",
      "11  210.072556\n",
      "12  232.260086\n",
      "13  275.143311\n",
      "14  312.747681\n",
      "15  460.006256\n"
     ]
    }
   ],
   "source": [
    "# looking at top 5 components\n",
    "n_principal_components = 5\n",
    "\n",
    "start_idx = N_COMPONENTS - n_principal_components  \n",
    "\n",
    "# print a selection of s\n",
    "print(s.iloc[start_idx:, :])"
   ]
  },
  {
   "cell_type": "code",
   "execution_count": 41,
   "id": "1889d3d1",
   "metadata": {},
   "outputs": [],
   "source": [
    "\n",
    "def explained_variance(s, n_top_components):\n",
    "    '''Calculates the approx. data variance that n_top_components captures.\n",
    "       :param s: A dataframe of singular values for top components; \n",
    "           the top value is in the last row.\n",
    "       :param n_top_components: An integer, the number of top components to use.\n",
    "       :return: The expected data variance covered by the n_top_components.'''\n",
    "    \n",
    "    start_idx = N_COMPONENTS - n_top_components \n",
    "    # calculate approx variance\n",
    "    exp_variance = np.square(s.iloc[start_idx:,:]).sum()/np.square(s).sum()\n",
    "    \n",
    "    return exp_variance[0]"
   ]
  },
  {
   "cell_type": "code",
   "execution_count": 42,
   "id": "c03a05c7",
   "metadata": {},
   "outputs": [
    {
     "name": "stdout",
     "output_type": "stream",
     "text": [
      "Explained variance:  0.80019265\n"
     ]
    }
   ],
   "source": [
    "# test cell\n",
    "n_top_components = 5 # select a value for the number of top components\n",
    "\n",
    "# calculate the explained variance\n",
    "exp_variance = explained_variance(s, n_top_components)\n",
    "print('Explained variance: ', exp_variance)"
   ]
  },
  {
   "cell_type": "markdown",
   "id": "29bf3d52",
   "metadata": {},
   "source": [
    "#### Component Makeup\n",
    "We can now examine the makeup of each PCA component based on **the weightings of the original features that are included in the component**. The following code shows the feature-level makeup of the first component.\n",
    "\n",
    "Note that the components are again ordered from smallest to largest and so I am getting the correct rows by calling N_COMPONENTS-1 to get the top, 1, component."
   ]
  },
  {
   "cell_type": "code",
   "execution_count": 46,
   "id": "c6bc0988",
   "metadata": {},
   "outputs": [],
   "source": [
    "import matplotlib.pyplot as plt\n",
    "import seaborn as sns \n",
    "\n",
    "def display_component(v, features_list, component_num, n_weights=10):\n",
    "    \n",
    "    # get index of component (last row - component_num)\n",
    "    row_idx = N_COMPONENTS-component_num\n",
    "\n",
    "    # get the list of weights from a row in v, dataframe\n",
    "    v_1_row = v.iloc[:, row_idx]\n",
    "    v_1 = np.squeeze(v_1_row.values)\n",
    "\n",
    "    # match weights to features in counties_scaled dataframe, using list comporehension\n",
    "    comps = pd.DataFrame(list(zip(v_1, features_list)), \n",
    "                         columns=['weights', 'features'])\n",
    "\n",
    "    # we'll want to sort by the largest n_weights\n",
    "    # weights can be neg/pos and we'll sort by magnitude\n",
    "    comps['abs_weights']=comps['weights'].apply(lambda x: np.abs(x))\n",
    "    sorted_weight_data = comps.sort_values('abs_weights', ascending=False).head(n_weights)\n",
    "\n",
    "    # display using seaborn\n",
    "    ax=plt.subplots(figsize=(10,6))\n",
    "    ax=sns.barplot(data=sorted_weight_data, \n",
    "                   x=\"weights\", \n",
    "                   y=\"features\", \n",
    "                   palette=\"Blues_d\")\n",
    "    ax.set_title(\"PCA Component Makeup, Component #\" + str(component_num))\n",
    "    plt.show()"
   ]
  },
  {
   "cell_type": "code",
   "execution_count": 47,
   "id": "5adc558a",
   "metadata": {},
   "outputs": [
    {
     "data": {
      "image/png": "[encoded data removed]",
      "text/plain": [
       "<Figure size 720x432 with 1 Axes>"
      ]
     },
     "metadata": {
      "needs_background": "light"
     },
     "output_type": "display_data"
    }
   ],
   "source": [
    "# display makeup of first component\n",
    "num = 5\n",
    "display_component(v, data_scaled.columns.values, component_num=num, n_weights=10)"
   ]
  },
  {
   "cell_type": "markdown",
   "id": "1168ec88",
   "metadata": {},
   "source": [
    "#### Deploying the PCA Model\n",
    "We can now deploy this model and use it to make \"predictions\". Instead of seeing what happens with some test data, we'll actually want to pass our training data into the deployed endpoint to create principal components for each data point."
   ]
  },
  {
   "cell_type": "code",
   "execution_count": 48,
   "id": "cf87453d",
   "metadata": {},
   "outputs": [
    {
     "name": "stderr",
     "output_type": "stream",
     "text": [
      "Defaulting to the only supported framework/algorithm version: 1. Ignoring framework/algorithm version: 1.\n"
     ]
    },
    {
     "name": "stdout",
     "output_type": "stream",
     "text": [
      "-------------!CPU times: user 258 ms, sys: 14.7 ms, total: 273 ms\n",
      "Wall time: 6min 32s\n"
     ]
    }
   ],
   "source": [
    "%%time\n",
    "# this takes a little while, around 8mins\n",
    "pca_predictor = pca_starbucks.deploy(initial_instance_count=1, \n",
    "                              instance_type='ml.p2.xlarge')"
   ]
  },
  {
   "cell_type": "code",
   "execution_count": 49,
   "id": "2df4e081",
   "metadata": {},
   "outputs": [],
   "source": [
    "# pass np train data to the PCA model\n",
    "train_pca = pca_predictor.predict(train_data_np)"
   ]
  },
  {
   "cell_type": "code",
   "execution_count": 50,
   "id": "5639b488",
   "metadata": {},
   "outputs": [
    {
     "name": "stdout",
     "output_type": "stream",
     "text": [
      "label {\n",
      "  key: \"projection\"\n",
      "  value {\n",
      "    float32_tensor {\n",
      "      values: -0.04098334163427353\n",
      "      values: -0.33758804202079773\n",
      "      values: -1.5152660608291626\n",
      "      values: -0.3862875699996948\n",
      "      values: -0.16776907444000244\n",
      "      values: -0.5303946137428284\n",
      "      values: 0.20309117436408997\n",
      "      values: 0.17287135124206543\n",
      "      values: 0.4031820297241211\n",
      "      values: 0.3596435785293579\n",
      "      values: -2.0268912315368652\n",
      "      values: -3.3388209342956543\n",
      "      values: 7.19050931930542\n",
      "      values: -4.023331165313721\n",
      "      values: -1.9289969205856323\n",
      "      values: -2.620175838470459\n",
      "    }\n",
      "  }\n",
      "}\n",
      "\n"
     ]
    }
   ],
   "source": [
    "# check out the first item in the produced training features\n",
    "data_idx = 0\n",
    "print(train_pca[data_idx])"
   ]
  },
  {
   "cell_type": "code",
   "execution_count": 51,
   "id": "064d82d4",
   "metadata": {},
   "outputs": [],
   "source": [
    "\n",
    "def create_transformed_df(train_pca, data_scaled, n_top_components):\n",
    "    ''' Return a dataframe of data points with component features. \n",
    "        The dataframe should be indexed by State-County and contain component values.\n",
    "        :param train_pca: A list of pca training data, returned by a PCA model.\n",
    "        :param counties_scaled: A dataframe of normalized, original features.\n",
    "        :param n_top_components: An integer, the number of top components to use.\n",
    "        :return: A dataframe, indexed by State-County, with n_top_component values as columns.        \n",
    "     '''\n",
    "    # create new dataframe to add data to\n",
    "    data_transformed=pd.DataFrame()\n",
    "\n",
    "    # for each of our new, transformed data points\n",
    "    # append the component values to the dataframe\n",
    "    for data in train_pca:\n",
    "        # get component values for each data point\n",
    "        components=data.label['projection'].float32_tensor.values\n",
    "        data_transformed = data_transformed.append([list(components)])\n",
    "\n",
    "    # index by county, just like counties_scaled\n",
    "    data_transformed.index = data_scaled.index\n",
    "\n",
    "    # keep only the top n components\n",
    "    start_idx = N_COMPONENTS - n_top_components\n",
    "    data_transformed = data_transformed.iloc[:,start_idx:]\n",
    "    \n",
    "    # reverse columns, component order     \n",
    "    return data_transformed.iloc[:, ::-1]"
   ]
  },
  {
   "cell_type": "code",
   "execution_count": 52,
   "id": "e89acbfb",
   "metadata": {},
   "outputs": [
    {
     "data": {
      "text/html": [
       "<div>\n",
       "<style scoped>\n",
       "    .dataframe tbody tr th:only-of-type {\n",
       "        vertical-align: middle;\n",
       "    }\n",
       "\n",
       "    .dataframe tbody tr th {\n",
       "        vertical-align: top;\n",
       "    }\n",
       "\n",
       "    .dataframe thead th {\n",
       "        text-align: right;\n",
       "    }\n",
       "</style>\n",
       "<table border=\"1\" class=\"dataframe\">\n",
       "  <thead>\n",
       "    <tr style=\"text-align: right;\">\n",
       "      <th></th>\n",
       "      <th>c_1</th>\n",
       "      <th>c_2</th>\n",
       "      <th>c_3</th>\n",
       "      <th>c_4</th>\n",
       "      <th>c_5</th>\n",
       "    </tr>\n",
       "  </thead>\n",
       "  <tbody>\n",
       "    <tr>\n",
       "      <th>0</th>\n",
       "      <td>-2.620176</td>\n",
       "      <td>-1.928997</td>\n",
       "      <td>-4.023331</td>\n",
       "      <td>7.190509</td>\n",
       "      <td>-3.338821</td>\n",
       "    </tr>\n",
       "    <tr>\n",
       "      <th>1</th>\n",
       "      <td>4.298525</td>\n",
       "      <td>2.480468</td>\n",
       "      <td>2.814970</td>\n",
       "      <td>0.869880</td>\n",
       "      <td>-3.051544</td>\n",
       "    </tr>\n",
       "    <tr>\n",
       "      <th>2</th>\n",
       "      <td>-0.090560</td>\n",
       "      <td>-2.853034</td>\n",
       "      <td>-1.224657</td>\n",
       "      <td>0.493026</td>\n",
       "      <td>1.071919</td>\n",
       "    </tr>\n",
       "    <tr>\n",
       "      <th>3</th>\n",
       "      <td>5.288128</td>\n",
       "      <td>-3.513768</td>\n",
       "      <td>-0.159936</td>\n",
       "      <td>-1.837879</td>\n",
       "      <td>1.218396</td>\n",
       "    </tr>\n",
       "    <tr>\n",
       "      <th>4</th>\n",
       "      <td>-2.118860</td>\n",
       "      <td>-2.629998</td>\n",
       "      <td>-1.038443</td>\n",
       "      <td>0.802769</td>\n",
       "      <td>0.593156</td>\n",
       "    </tr>\n",
       "  </tbody>\n",
       "</table>\n",
       "</div>"
      ],
      "text/plain": [
       "        c_1       c_2       c_3       c_4       c_5\n",
       "0 -2.620176 -1.928997 -4.023331  7.190509 -3.338821\n",
       "1  4.298525  2.480468  2.814970  0.869880 -3.051544\n",
       "2 -0.090560 -2.853034 -1.224657  0.493026  1.071919\n",
       "3  5.288128 -3.513768 -0.159936 -1.837879  1.218396\n",
       "4 -2.118860 -2.629998 -1.038443  0.802769  0.593156"
      ]
     },
     "execution_count": 52,
     "metadata": {},
     "output_type": "execute_result"
    }
   ],
   "source": [
    "# specify top n\n",
    "top_n = 5\n",
    "\n",
    "# call your function and create a new dataframe\n",
    "data_transformed = create_transformed_df(train_pca, data_scaled, n_top_components=top_n)\n",
    "\n",
    "# add descriptive columns\n",
    "PCA_list=['c_1', 'c_2', 'c_3', 'c_4', 'c_5']\n",
    "data_transformed.columns=PCA_list \n",
    "\n",
    "# print result\n",
    "data_transformed.head()"
   ]
  },
  {
   "cell_type": "code",
   "execution_count": 54,
   "id": "4b1d62e9",
   "metadata": {},
   "outputs": [],
   "source": [
    "\n",
    "# Save PCA dataset\n",
    "data_transformed.to_csv('saved_progress/pca_scores.csv')"
   ]
  },
  {
   "cell_type": "code",
   "execution_count": 55,
   "id": "ebb6cbfc",
   "metadata": {},
   "outputs": [
    {
     "name": "stderr",
     "output_type": "stream",
     "text": [
      "The endpoint attribute has been renamed in sagemaker>=2.\n",
      "See: https://sagemaker.readthedocs.io/en/stable/v2.html for details.\n"
     ]
    }
   ],
   "source": [
    "# Delete predictor endpoint\n",
    "session.delete_endpoint(pca_predictor.endpoint)"
   ]
  },
  {
   "cell_type": "code",
   "execution_count": null,
   "id": "7f37ac0a",
   "metadata": {},
   "outputs": [],
   "source": []
  }
 ],
 "metadata": {
  "kernelspec": {
   "display_name": "conda_python3",
   "language": "python",
   "name": "conda_python3"
  },
  "language_info": {
   "codemirror_mode": {
    "name": "ipython",
    "version": 3
   },
   "file_extension": ".py",
   "mimetype": "text/x-python",
   "name": "python",
   "nbconvert_exporter": "python",
   "pygments_lexer": "ipython3",
   "version": "3.6.13"
  }
 },
 "nbformat": 4,
 "nbformat_minor": 5
}
