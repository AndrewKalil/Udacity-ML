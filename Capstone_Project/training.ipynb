{
 "cells": [
  {
   "cell_type": "markdown",
   "id": "9a1fbdca",
   "metadata": {},
   "source": [
    "# Dimensionality Reduction\n",
    "#### Roles and Buckets"
   ]
  },
  {
   "cell_type": "code",
   "execution_count": 57,
   "id": "edfc1a56",
   "metadata": {},
   "outputs": [
    {
     "name": "stdout",
     "output_type": "stream",
     "text": [
      "Requirement already satisfied: mxnet in /home/ec2-user/anaconda3/envs/python3/lib/python3.6/site-packages (1.8.0.post0)\n",
      "Requirement already satisfied: requests<3,>=2.20.0 in /home/ec2-user/anaconda3/envs/python3/lib/python3.6/site-packages (from mxnet) (2.25.1)\n",
      "Requirement already satisfied: numpy<2.0.0,>1.16.0 in /home/ec2-user/anaconda3/envs/python3/lib/python3.6/site-packages (from mxnet) (1.19.5)\n",
      "Requirement already satisfied: graphviz<0.9.0,>=0.8.1 in /home/ec2-user/anaconda3/envs/python3/lib/python3.6/site-packages (from mxnet) (0.8.4)\n",
      "Requirement already satisfied: idna<3,>=2.5 in /home/ec2-user/anaconda3/envs/python3/lib/python3.6/site-packages (from requests<3,>=2.20.0->mxnet) (2.10)\n",
      "Requirement already satisfied: chardet<5,>=3.0.2 in /home/ec2-user/anaconda3/envs/python3/lib/python3.6/site-packages (from requests<3,>=2.20.0->mxnet) (3.0.4)\n",
      "Requirement already satisfied: certifi>=2017.4.17 in /home/ec2-user/anaconda3/envs/python3/lib/python3.6/site-packages (from requests<3,>=2.20.0->mxnet) (2020.12.5)\n",
      "Requirement already satisfied: urllib3<1.27,>=1.21.1 in /home/ec2-user/anaconda3/envs/python3/lib/python3.6/site-packages (from requests<3,>=2.20.0->mxnet) (1.26.4)\n"
     ]
    }
   ],
   "source": [
    "!pip install mxnet"
   ]
  },
  {
   "cell_type": "code",
   "execution_count": 58,
   "id": "aec28672",
   "metadata": {},
   "outputs": [],
   "source": [
    "# sagemaker libraries\n",
    "import boto3\n",
    "import sagemaker\n",
    "from sagemaker import get_execution_role\n",
    "\n",
    "# pandas and np\n",
    "import numpy as np\n",
    "import pandas as pd\n",
    "\n",
    "import os"
   ]
  },
  {
   "cell_type": "code",
   "execution_count": 59,
   "id": "0e84419d",
   "metadata": {},
   "outputs": [
    {
     "name": "stdout",
     "output_type": "stream",
     "text": [
      "arn:aws:iam::305472246504:role/service-role/AmazonSageMaker-ExecutionRole-20210617T231874\n"
     ]
    }
   ],
   "source": [
    "session = sagemaker.Session() # store the current SageMaker session\n",
    "\n",
    "# get IAM role\n",
    "role = get_execution_role()\n",
    "print(role)"
   ]
  },
  {
   "cell_type": "code",
   "execution_count": 60,
   "id": "6e12054d",
   "metadata": {},
   "outputs": [
    {
     "name": "stdout",
     "output_type": "stream",
     "text": [
      "sagemaker-us-east-1-305472246504\n",
      "\n"
     ]
    }
   ],
   "source": [
    "# get default bucket\n",
    "bucket_name = session.default_bucket()\n",
    "print(bucket_name)\n",
    "print()"
   ]
  },
  {
   "cell_type": "markdown",
   "id": "a3f12712",
   "metadata": {},
   "source": [
    "#### Define a PCA Model\n",
    "* role: The IAM role, which was specified, above.\n",
    "* train_instance_count: The number of training instances (typically, 1).\n",
    "* train_instance_type: The type of SageMaker instance for training.\n",
    "* num_components: An integer that defines the number of PCA components to produce.\n",
    "* sagemaker_session: The session used to train on SageMaker."
   ]
  },
  {
   "cell_type": "code",
   "execution_count": 61,
   "id": "f78bad4b",
   "metadata": {},
   "outputs": [
    {
     "name": "stdout",
     "output_type": "stream",
     "text": [
      "Training artifacts will be uploaded to: s3://sagemaker-us-east-1-305472246504/starbucks/\n"
     ]
    }
   ],
   "source": [
    "# define location to store model artifacts\n",
    "prefix = 'starbucks'\n",
    "\n",
    "output_path='s3://{}/{}/'.format(bucket_name, prefix)\n",
    "\n",
    "print('Training artifacts will be uploaded to: {}'.format(output_path))"
   ]
  },
  {
   "cell_type": "code",
   "execution_count": 62,
   "id": "2440053b",
   "metadata": {},
   "outputs": [
    {
     "data": {
      "text/plain": [
       "17"
      ]
     },
     "execution_count": 62,
     "metadata": {},
     "output_type": "execute_result"
    }
   ],
   "source": [
    "data_scaled.shape[1]"
   ]
  },
  {
   "cell_type": "code",
   "execution_count": 63,
   "id": "1b0ef30e",
   "metadata": {},
   "outputs": [],
   "source": [
    "# define a PCA model\n",
    "from sagemaker import PCA\n",
    "\n",
    "data_scaled = pd.read_csv('saved_progress/scaled_dataset.csv')\n",
    "data_scaled.drop(columns=['Unnamed: 0'], inplace=True)\n",
    "\n",
    "# this is current features - 1\n",
    "# you'll select only a portion of these to use, later\n",
    "N_COMPONENTS = data_scaled.shape[1] - 1\n",
    "\n",
    "pca_starbucks = PCA(role=role,\n",
    "             instance_count=1,\n",
    "             instance_type='ml.p2.xlarge',\n",
    "             output_path=output_path, # specified, above\n",
    "             num_components=N_COMPONENTS, \n",
    "             sagemaker_session=session)"
   ]
  },
  {
   "cell_type": "markdown",
   "id": "1aee81dd",
   "metadata": {},
   "source": [
    "#### Convert data into a RecordSet format¶\n",
    "Next, prepare the data for a built-in model by converting the DataFrame to a numpy array of float values.\n",
    "\n",
    "The record_set function in the SageMaker PCA model converts a numpy array into a RecordSet format that is the required format for the training input data. This is a requirement for all of SageMaker's built-in models. The use of this data type is one of the reasons that allows training of models within Amazon SageMaker to perform faster, especially for large datasets."
   ]
  },
  {
   "cell_type": "code",
   "execution_count": 30,
   "id": "c2b6be8b",
   "metadata": {},
   "outputs": [],
   "source": [
    "# convert df to np array\n",
    "train_data_np = data_scaled.values.astype('float32')\n",
    "\n",
    "# convert to RecordSet format\n",
    "formatted_train_data = pca_starbucks.record_set(train_data_np)"
   ]
  },
  {
   "cell_type": "markdown",
   "id": "6084fb94",
   "metadata": {},
   "source": [
    "#### Train the model"
   ]
  },
  {
   "cell_type": "code",
   "execution_count": 31,
   "id": "6501cc25",
   "metadata": {},
   "outputs": [
    {
     "name": "stderr",
     "output_type": "stream",
     "text": [
      "Defaulting to the only supported framework/algorithm version: 1. Ignoring framework/algorithm version: 1.\n",
      "Defaulting to the only supported framework/algorithm version: 1. Ignoring framework/algorithm version: 1.\n"
     ]
    },
    {
     "name": "stdout",
     "output_type": "stream",
     "text": [
      "2021-06-18 05:52:03 Starting - Starting the training job...\n",
      "2021-06-18 05:52:30 Starting - Launching requested ML instancesProfilerReport-1623995523: InProgress\n",
      "...\n",
      "2021-06-18 05:53:03 Starting - Preparing the instances for training............\n",
      "2021-06-18 05:55:04 Downloading - Downloading input data...\n",
      "2021-06-18 05:55:31 Training - Downloading the training image..\u001b[34mDocker entrypoint called with argument(s): train\u001b[0m\n",
      "\u001b[34mRunning default environment configuration script\u001b[0m\n",
      "\u001b[34m[06/18/2021 05:55:46 INFO 140045461944128] Reading default configuration from /opt/amazon/lib/python3.7/site-packages/algorithm/resources/default-conf.json: {'algorithm_mode': 'regular', 'subtract_mean': 'true', 'extra_components': '-1', 'force_dense': 'true', 'epochs': 1, '_log_level': 'info', '_kvstore': 'dist_sync', '_num_kv_servers': 'auto', '_num_gpus': 'auto'}\u001b[0m\n",
      "\u001b[34m[06/18/2021 05:55:46 INFO 140045461944128] Merging with provided configuration from /opt/ml/input/config/hyperparameters.json: {'feature_dim': '17', 'num_components': '16', 'mini_batch_size': '500'}\u001b[0m\n",
      "\u001b[34m[06/18/2021 05:55:46 INFO 140045461944128] Final configuration: {'algorithm_mode': 'regular', 'subtract_mean': 'true', 'extra_components': '-1', 'force_dense': 'true', 'epochs': 1, '_log_level': 'info', '_kvstore': 'dist_sync', '_num_kv_servers': 'auto', '_num_gpus': 'auto', 'feature_dim': '17', 'num_components': '16', 'mini_batch_size': '500'}\u001b[0m\n",
      "\u001b[34m[06/18/2021 05:55:46 WARNING 140045461944128] Loggers have already been setup.\u001b[0m\n",
      "\u001b[34m[06/18/2021 05:55:46 INFO 140045461944128] Launching parameter server for role scheduler\u001b[0m\n",
      "\u001b[34m[06/18/2021 05:55:46 INFO 140045461944128] {'ENVROOT': '/opt/amazon', 'PROTOCOL_BUFFERS_PYTHON_IMPLEMENTATION': 'cpp', 'HOSTNAME': 'ip-10-0-163-219.ec2.internal', 'TRAINING_JOB_NAME': 'pca-2021-06-18-05-52-03-430', 'NVIDIA_REQUIRE_CUDA': 'cuda>=9.0', 'TRAINING_JOB_ARN': 'arn:aws:sagemaker:us-east-1:305472246504:training-job/pca-2021-06-18-05-52-03-430', 'AWS_CONTAINER_CREDENTIALS_RELATIVE_URI': '/v2/credentials/b13806be-de2b-425d-8c9b-ca8014558381', 'CANONICAL_ENVROOT': '/opt/amazon', 'PYTHONUNBUFFERED': 'TRUE', 'NVIDIA_VISIBLE_DEVICES': 'all', 'LD_LIBRARY_PATH': '/opt/amazon/lib/python3.7/site-packages/cv2/../../../../lib:/usr/local/nvidia/lib64:/opt/amazon/lib', 'NVIDIA_DRIVER_CAPABILITIES': 'compute,utility,compat32,graphics,video', 'AWS_EXECUTION_ENV': 'AWS_ECS_EC2', 'PATH': '/opt/amazon/bin:/usr/local/nvidia/bin:/usr/local/sbin:/usr/local/bin:/usr/sbin:/usr/bin:/sbin:/bin:/opt/amazon/bin:/opt/amazon/bin', 'PWD': '/', 'LANG': 'en_US.utf8', 'AWS_REGION': 'us-east-1', 'HOME': '/root', 'SHLVL': '1', 'PROTOCOL_BUFFERS_PYTHON_IMPLEMENTATION_VERSION': '2', 'OMP_NUM_THREADS': '2', 'ECS_CONTAINER_METADATA_URI': 'http://169.254.170.2/v3/e2fb27ca-aa2d-43ad-b0b5-9d9966480228', 'DMLC_INTERFACE': 'eth0', 'ECS_CONTAINER_METADATA_URI_V4': 'http://169.254.170.2/v4/e2fb27ca-aa2d-43ad-b0b5-9d9966480228', 'SAGEMAKER_HTTP_PORT': '8080', 'SAGEMAKER_DATA_PATH': '/opt/ml'}\u001b[0m\n",
      "\u001b[34m[06/18/2021 05:55:46 INFO 140045461944128] envs={'ENVROOT': '/opt/amazon', 'PROTOCOL_BUFFERS_PYTHON_IMPLEMENTATION': 'cpp', 'HOSTNAME': 'ip-10-0-163-219.ec2.internal', 'TRAINING_JOB_NAME': 'pca-2021-06-18-05-52-03-430', 'NVIDIA_REQUIRE_CUDA': 'cuda>=9.0', 'TRAINING_JOB_ARN': 'arn:aws:sagemaker:us-east-1:305472246504:training-job/pca-2021-06-18-05-52-03-430', 'AWS_CONTAINER_CREDENTIALS_RELATIVE_URI': '/v2/credentials/b13806be-de2b-425d-8c9b-ca8014558381', 'CANONICAL_ENVROOT': '/opt/amazon', 'PYTHONUNBUFFERED': 'TRUE', 'NVIDIA_VISIBLE_DEVICES': 'all', 'LD_LIBRARY_PATH': '/opt/amazon/lib/python3.7/site-packages/cv2/../../../../lib:/usr/local/nvidia/lib64:/opt/amazon/lib', 'NVIDIA_DRIVER_CAPABILITIES': 'compute,utility,compat32,graphics,video', 'AWS_EXECUTION_ENV': 'AWS_ECS_EC2', 'PATH': '/opt/amazon/bin:/usr/local/nvidia/bin:/usr/local/sbin:/usr/local/bin:/usr/sbin:/usr/bin:/sbin:/bin:/opt/amazon/bin:/opt/amazon/bin', 'PWD': '/', 'LANG': 'en_US.utf8', 'AWS_REGION': 'us-east-1', 'HOME': '/root', 'SHLVL': '1', 'PROTOCOL_BUFFERS_PYTHON_IMPLEMENTATION_VERSION': '2', 'OMP_NUM_THREADS': '2', 'ECS_CONTAINER_METADATA_URI': 'http://169.254.170.2/v3/e2fb27ca-aa2d-43ad-b0b5-9d9966480228', 'DMLC_INTERFACE': 'eth0', 'ECS_CONTAINER_METADATA_URI_V4': 'http://169.254.170.2/v4/e2fb27ca-aa2d-43ad-b0b5-9d9966480228', 'SAGEMAKER_HTTP_PORT': '8080', 'SAGEMAKER_DATA_PATH': '/opt/ml', 'DMLC_ROLE': 'scheduler', 'DMLC_PS_ROOT_URI': '10.0.163.219', 'DMLC_PS_ROOT_PORT': '9000', 'DMLC_NUM_SERVER': '1', 'DMLC_NUM_WORKER': '1'}\u001b[0m\n",
      "\u001b[34m[06/18/2021 05:55:46 INFO 140045461944128] Launching parameter server for role server\u001b[0m\n",
      "\u001b[34m[06/18/2021 05:55:46 INFO 140045461944128] {'ENVROOT': '/opt/amazon', 'PROTOCOL_BUFFERS_PYTHON_IMPLEMENTATION': 'cpp', 'HOSTNAME': 'ip-10-0-163-219.ec2.internal', 'TRAINING_JOB_NAME': 'pca-2021-06-18-05-52-03-430', 'NVIDIA_REQUIRE_CUDA': 'cuda>=9.0', 'TRAINING_JOB_ARN': 'arn:aws:sagemaker:us-east-1:305472246504:training-job/pca-2021-06-18-05-52-03-430', 'AWS_CONTAINER_CREDENTIALS_RELATIVE_URI': '/v2/credentials/b13806be-de2b-425d-8c9b-ca8014558381', 'CANONICAL_ENVROOT': '/opt/amazon', 'PYTHONUNBUFFERED': 'TRUE', 'NVIDIA_VISIBLE_DEVICES': 'all', 'LD_LIBRARY_PATH': '/opt/amazon/lib/python3.7/site-packages/cv2/../../../../lib:/usr/local/nvidia/lib64:/opt/amazon/lib', 'NVIDIA_DRIVER_CAPABILITIES': 'compute,utility,compat32,graphics,video', 'AWS_EXECUTION_ENV': 'AWS_ECS_EC2', 'PATH': '/opt/amazon/bin:/usr/local/nvidia/bin:/usr/local/sbin:/usr/local/bin:/usr/sbin:/usr/bin:/sbin:/bin:/opt/amazon/bin:/opt/amazon/bin', 'PWD': '/', 'LANG': 'en_US.utf8', 'AWS_REGION': 'us-east-1', 'HOME': '/root', 'SHLVL': '1', 'PROTOCOL_BUFFERS_PYTHON_IMPLEMENTATION_VERSION': '2', 'OMP_NUM_THREADS': '2', 'ECS_CONTAINER_METADATA_URI': 'http://169.254.170.2/v3/e2fb27ca-aa2d-43ad-b0b5-9d9966480228', 'DMLC_INTERFACE': 'eth0', 'ECS_CONTAINER_METADATA_URI_V4': 'http://169.254.170.2/v4/e2fb27ca-aa2d-43ad-b0b5-9d9966480228', 'SAGEMAKER_HTTP_PORT': '8080', 'SAGEMAKER_DATA_PATH': '/opt/ml'}\u001b[0m\n",
      "\u001b[34m[06/18/2021 05:55:46 INFO 140045461944128] envs={'ENVROOT': '/opt/amazon', 'PROTOCOL_BUFFERS_PYTHON_IMPLEMENTATION': 'cpp', 'HOSTNAME': 'ip-10-0-163-219.ec2.internal', 'TRAINING_JOB_NAME': 'pca-2021-06-18-05-52-03-430', 'NVIDIA_REQUIRE_CUDA': 'cuda>=9.0', 'TRAINING_JOB_ARN': 'arn:aws:sagemaker:us-east-1:305472246504:training-job/pca-2021-06-18-05-52-03-430', 'AWS_CONTAINER_CREDENTIALS_RELATIVE_URI': '/v2/credentials/b13806be-de2b-425d-8c9b-ca8014558381', 'CANONICAL_ENVROOT': '/opt/amazon', 'PYTHONUNBUFFERED': 'TRUE', 'NVIDIA_VISIBLE_DEVICES': 'all', 'LD_LIBRARY_PATH': '/opt/amazon/lib/python3.7/site-packages/cv2/../../../../lib:/usr/local/nvidia/lib64:/opt/amazon/lib', 'NVIDIA_DRIVER_CAPABILITIES': 'compute,utility,compat32,graphics,video', 'AWS_EXECUTION_ENV': 'AWS_ECS_EC2', 'PATH': '/opt/amazon/bin:/usr/local/nvidia/bin:/usr/local/sbin:/usr/local/bin:/usr/sbin:/usr/bin:/sbin:/bin:/opt/amazon/bin:/opt/amazon/bin', 'PWD': '/', 'LANG': 'en_US.utf8', 'AWS_REGION': 'us-east-1', 'HOME': '/root', 'SHLVL': '1', 'PROTOCOL_BUFFERS_PYTHON_IMPLEMENTATION_VERSION': '2', 'OMP_NUM_THREADS': '2', 'ECS_CONTAINER_METADATA_URI': 'http://169.254.170.2/v3/e2fb27ca-aa2d-43ad-b0b5-9d9966480228', 'DMLC_INTERFACE': 'eth0', 'ECS_CONTAINER_METADATA_URI_V4': 'http://169.254.170.2/v4/e2fb27ca-aa2d-43ad-b0b5-9d9966480228', 'SAGEMAKER_HTTP_PORT': '8080', 'SAGEMAKER_DATA_PATH': '/opt/ml', 'DMLC_ROLE': 'server', 'DMLC_PS_ROOT_URI': '10.0.163.219', 'DMLC_PS_ROOT_PORT': '9000', 'DMLC_NUM_SERVER': '1', 'DMLC_NUM_WORKER': '1'}\u001b[0m\n",
      "\u001b[34m[06/18/2021 05:55:46 INFO 140045461944128] Environment: {'ENVROOT': '/opt/amazon', 'PROTOCOL_BUFFERS_PYTHON_IMPLEMENTATION': 'cpp', 'HOSTNAME': 'ip-10-0-163-219.ec2.internal', 'TRAINING_JOB_NAME': 'pca-2021-06-18-05-52-03-430', 'NVIDIA_REQUIRE_CUDA': 'cuda>=9.0', 'TRAINING_JOB_ARN': 'arn:aws:sagemaker:us-east-1:305472246504:training-job/pca-2021-06-18-05-52-03-430', 'AWS_CONTAINER_CREDENTIALS_RELATIVE_URI': '/v2/credentials/b13806be-de2b-425d-8c9b-ca8014558381', 'CANONICAL_ENVROOT': '/opt/amazon', 'PYTHONUNBUFFERED': 'TRUE', 'NVIDIA_VISIBLE_DEVICES': 'all', 'LD_LIBRARY_PATH': '/opt/amazon/lib/python3.7/site-packages/cv2/../../../../lib:/usr/local/nvidia/lib64:/opt/amazon/lib', 'NVIDIA_DRIVER_CAPABILITIES': 'compute,utility,compat32,graphics,video', 'AWS_EXECUTION_ENV': 'AWS_ECS_EC2', 'PATH': '/opt/amazon/bin:/usr/local/nvidia/bin:/usr/local/sbin:/usr/local/bin:/usr/sbin:/usr/bin:/sbin:/bin:/opt/amazon/bin:/opt/amazon/bin', 'PWD': '/', 'LANG': 'en_US.utf8', 'AWS_REGION': 'us-east-1', 'HOME': '/root', 'SHLVL': '1', 'PROTOCOL_BUFFERS_PYTHON_IMPLEMENTATION_VERSION': '2', 'OMP_NUM_THREADS': '2', 'ECS_CONTAINER_METADATA_URI': 'http://169.254.170.2/v3/e2fb27ca-aa2d-43ad-b0b5-9d9966480228', 'DMLC_INTERFACE': 'eth0', 'ECS_CONTAINER_METADATA_URI_V4': 'http://169.254.170.2/v4/e2fb27ca-aa2d-43ad-b0b5-9d9966480228', 'SAGEMAKER_HTTP_PORT': '8080', 'SAGEMAKER_DATA_PATH': '/opt/ml', 'DMLC_ROLE': 'worker', 'DMLC_PS_ROOT_URI': '10.0.163.219', 'DMLC_PS_ROOT_PORT': '9000', 'DMLC_NUM_SERVER': '1', 'DMLC_NUM_WORKER': '1'}\u001b[0m\n",
      "\u001b[34mProcess 33 is a shell:scheduler.\u001b[0m\n",
      "\u001b[34mProcess 45 is a shell:server.\u001b[0m\n",
      "\u001b[34mProcess 1 is a worker.\u001b[0m\n",
      "\u001b[34m[06/18/2021 05:55:46 INFO 140045461944128] Using default worker.\u001b[0m\n",
      "\u001b[34m[06/18/2021 05:55:46 INFO 140045461944128] Loaded iterator creator application/x-labeled-vector-protobuf for content type ('application/x-labeled-vector-protobuf', '1.0')\u001b[0m\n",
      "\u001b[34m[06/18/2021 05:55:46 INFO 140045461944128] Loaded iterator creator application/x-recordio-protobuf for content type ('application/x-recordio-protobuf', '1.0')\u001b[0m\n",
      "\u001b[34m[06/18/2021 05:55:46 INFO 140045461944128] Loaded iterator creator protobuf for content type ('protobuf', '1.0')\u001b[0m\n",
      "\u001b[34m[06/18/2021 05:55:46 INFO 140045461944128] Checkpoint loading and saving are disabled.\u001b[0m\n",
      "\u001b[34m[06/18/2021 05:55:46 INFO 140045461944128] Create Store: dist_sync\u001b[0m\n",
      "\u001b[34m[06/18/2021 05:55:47 INFO 140045461944128] nvidia-smi: took 0.105 seconds to run.\u001b[0m\n",
      "\u001b[34m[06/18/2021 05:55:47 INFO 140045461944128] nvidia-smi identified 1 GPUs.\u001b[0m\n",
      "\u001b[34m[06/18/2021 05:55:47 INFO 140045461944128] Number of GPUs being used: 1\u001b[0m\n",
      "\u001b[34m[06/18/2021 05:55:47 INFO 140045461944128] The default executor is <PCAExecutor on gpu(0)>.\u001b[0m\n",
      "\u001b[34m[06/18/2021 05:55:47 INFO 140045461944128] 17 feature(s) found in 'data'.\u001b[0m\n",
      "\u001b[34m[06/18/2021 05:55:48 INFO 140045461944128] <PCAExecutor on gpu(0)> is assigned to batch slice from 0 to 499.\u001b[0m\n",
      "\n",
      "2021-06-18 05:56:01 Uploading - Uploading generated training model\n",
      "2021-06-18 05:56:01 Completed - Training job completed\n",
      "\u001b[34m#metrics {\"StartTime\": 1623995746.2697291, \"EndTime\": 1623995753.3583302, \"Dimensions\": {\"Algorithm\": \"PCA\", \"Host\": \"algo-1\", \"Operation\": \"training\"}, \"Metrics\": {\"initialize.time\": {\"sum\": 7083.885669708252, \"count\": 1, \"min\": 7083.885669708252, \"max\": 7083.885669708252}}}\n",
      "\u001b[0m\n",
      "\u001b[34m#metrics {\"StartTime\": 1623995753.3585653, \"EndTime\": 1623995753.3586218, \"Dimensions\": {\"Algorithm\": \"PCA\", \"Host\": \"algo-1\", \"Operation\": \"training\", \"Meta\": \"init_train_data_iter\"}, \"Metrics\": {\"Total Records Seen\": {\"sum\": 0.0, \"count\": 1, \"min\": 0, \"max\": 0}, \"Total Batches Seen\": {\"sum\": 0.0, \"count\": 1, \"min\": 0, \"max\": 0}, \"Max Records Seen Between Resets\": {\"sum\": 0.0, \"count\": 1, \"min\": 0, \"max\": 0}, \"Max Batches Seen Between Resets\": {\"sum\": 0.0, \"count\": 1, \"min\": 0, \"max\": 0}, \"Reset Count\": {\"sum\": 0.0, \"count\": 1, \"min\": 0, \"max\": 0}, \"Number of Records Since Last Reset\": {\"sum\": 0.0, \"count\": 1, \"min\": 0, \"max\": 0}, \"Number of Batches Since Last Reset\": {\"sum\": 0.0, \"count\": 1, \"min\": 0, \"max\": 0}}}\n",
      "\u001b[0m\n",
      "\u001b[34m[2021-06-18 05:55:53.359] [tensorio] [info] epoch_stats={\"data_pipeline\": \"/opt/ml/input/data/train\", \"epoch\": 0, \"duration\": 7088, \"num_examples\": 1, \"num_bytes\": 46000}\u001b[0m\n",
      "\u001b[34m[2021-06-18 05:55:53.398] [tensorio] [info] epoch_stats={\"data_pipeline\": \"/opt/ml/input/data/train\", \"epoch\": 1, \"duration\": 27, \"num_examples\": 29, \"num_bytes\": 1332804}\u001b[0m\n",
      "\u001b[34m#metrics {\"StartTime\": 1623995753.3584948, \"EndTime\": 1623995753.3988636, \"Dimensions\": {\"Algorithm\": \"PCA\", \"Host\": \"algo-1\", \"Operation\": \"training\"}, \"Metrics\": {\"epochs\": {\"sum\": 1.0, \"count\": 1, \"min\": 1, \"max\": 1}, \"update.time\": {\"sum\": 39.527177810668945, \"count\": 1, \"min\": 39.527177810668945, \"max\": 39.527177810668945}}}\n",
      "\u001b[0m\n",
      "\u001b[34m[06/18/2021 05:55:53 INFO 140045461944128] #progress_metric: host=algo-1, completed 100.0 % of epochs\u001b[0m\n",
      "\u001b[34m#metrics {\"StartTime\": 1623995753.35929, \"EndTime\": 1623995753.3993025, \"Dimensions\": {\"Algorithm\": \"PCA\", \"Host\": \"algo-1\", \"Operation\": \"training\", \"epoch\": 0, \"Meta\": \"training_data_iter\"}, \"Metrics\": {\"Total Records Seen\": {\"sum\": 14487.0, \"count\": 1, \"min\": 14487, \"max\": 14487}, \"Total Batches Seen\": {\"sum\": 29.0, \"count\": 1, \"min\": 29, \"max\": 29}, \"Max Records Seen Between Resets\": {\"sum\": 14487.0, \"count\": 1, \"min\": 14487, \"max\": 14487}, \"Max Batches Seen Between Resets\": {\"sum\": 29.0, \"count\": 1, \"min\": 29, \"max\": 29}, \"Reset Count\": {\"sum\": 1.0, \"count\": 1, \"min\": 1, \"max\": 1}, \"Number of Records Since Last Reset\": {\"sum\": 14487.0, \"count\": 1, \"min\": 14487, \"max\": 14487}, \"Number of Batches Since Last Reset\": {\"sum\": 29.0, \"count\": 1, \"min\": 29, \"max\": 29}}}\n",
      "\u001b[0m\n",
      "\u001b[34m[06/18/2021 05:55:53 INFO 140045461944128] #throughput_metric: host=algo-1, train throughput=360668.36851008766 records/second\u001b[0m\n",
      "\u001b[34m#metrics {\"StartTime\": 1623995753.3989677, \"EndTime\": 1623995753.411262, \"Dimensions\": {\"Algorithm\": \"PCA\", \"Host\": \"algo-1\", \"Operation\": \"training\"}, \"Metrics\": {\"finalize.time\": {\"sum\": 11.446714401245117, \"count\": 1, \"min\": 11.446714401245117, \"max\": 11.446714401245117}}}\n",
      "\u001b[0m\n",
      "\u001b[34m[06/18/2021 05:55:53 INFO 140045461944128] Test data is not provided.\u001b[0m\n",
      "\u001b[34m#metrics {\"StartTime\": 1623995753.411343, \"EndTime\": 1623995753.412315, \"Dimensions\": {\"Algorithm\": \"PCA\", \"Host\": \"algo-1\", \"Operation\": \"training\"}, \"Metrics\": {\"setuptime\": {\"sum\": 31.12626075744629, \"count\": 1, \"min\": 31.12626075744629, \"max\": 31.12626075744629}, \"totaltime\": {\"sum\": 7408.2183837890625, \"count\": 1, \"min\": 7408.2183837890625, \"max\": 7408.2183837890625}}}\n",
      "\u001b[0m\n",
      "Training seconds: 57\n",
      "Billable seconds: 57\n",
      "CPU times: user 512 ms, sys: 50.6 ms, total: 563 ms\n",
      "Wall time: 4min 12s\n"
     ]
    }
   ],
   "source": [
    "%%time\n",
    "\n",
    "# train the PCA mode on the formatted data\n",
    "pca_starbucks.fit(formatted_train_data)"
   ]
  },
  {
   "cell_type": "code",
   "execution_count": 37,
   "id": "6098e385",
   "metadata": {},
   "outputs": [
    {
     "name": "stdout",
     "output_type": "stream",
     "text": [
      "starbucks/pca-2021-06-18-05-52-03-430/output/model.tar.gz\n"
     ]
    },
    {
     "data": {
      "text/plain": [
       "2304"
      ]
     },
     "execution_count": 37,
     "metadata": {},
     "output_type": "execute_result"
    }
   ],
   "source": [
    "# Get the name of the training job, it's suggested that you copy-paste\n",
    "# from the notebook or from a specific job in the AWS console\n",
    "training_job_name='pca-2021-06-18-05-52-03-430'\n",
    "\n",
    "# where the model is saved, by default\n",
    "model_key = os.path.join(prefix, training_job_name, 'output/model.tar.gz')\n",
    "print(model_key)\n",
    "\n",
    "# download and unzip model\n",
    "boto3.resource('s3').Bucket(bucket_name).download_file(model_key, 'model.tar.gz')\n",
    "\n",
    "# unzipping as model_algo-1\n",
    "os.system('tar -zxvf model.tar.gz')\n",
    "os.system('unzip model_algo-1')"
   ]
  },
  {
   "cell_type": "code",
   "execution_count": 38,
   "id": "6a01cb5b",
   "metadata": {},
   "outputs": [
    {
     "name": "stdout",
     "output_type": "stream",
     "text": [
      "{'s': \n",
      "[  8.429521  26.027431  26.81646   36.325542  49.304764  60.88973\n",
      "  69.86713  117.247246 141.33946  176.21779  205.10966  210.07256\n",
      " 232.26009  275.1433   312.74768  460.00626 ]\n",
      "<NDArray 16 @cpu(0)>, 'v': \n",
      "[[ 3.18557839e-03 -7.81635791e-02  7.37826107e-03  1.40297518e-03\n",
      "  -1.12440594e-01  9.88959193e-01 -2.08910443e-02  1.02859633e-02\n",
      "  -8.66883621e-03  5.61253866e-03 -2.89129708e-02  2.43291054e-02\n",
      "  -7.57212471e-03  2.10041888e-02  2.93655996e-03 -2.35308390e-02]\n",
      " [-8.78858939e-02 -9.89152968e-01 -6.20757565e-02  9.91216861e-03\n",
      "  -2.15466525e-02 -7.78500810e-02 -1.01529974e-02 -4.63129254e-03\n",
      "   2.67041917e-03 -2.45285942e-03  3.01984232e-02 -2.09360085e-02\n",
      "   7.42787262e-03 -9.99702793e-03  1.75119052e-03  1.87980253e-02]\n",
      " [-2.28298791e-02  1.39766140e-02  9.04494673e-02  8.38360250e-01\n",
      "  -9.33418646e-02  5.99262057e-05 -2.11296249e-02 -2.47032389e-01\n",
      "  -1.42061897e-02  1.79974988e-01 -2.54638307e-02  5.52906953e-02\n",
      "  -7.09493160e-02 -1.94553122e-01 -1.72387194e-02  3.72229367e-01]\n",
      " [-1.63447310e-03  4.84705195e-02 -7.38258839e-01 -1.12631887e-01\n",
      "  -1.93924949e-01 -1.83094200e-02 -2.64353715e-02 -2.71361262e-01\n",
      "   7.43753696e-03  2.36944214e-01  1.02683730e-01  2.03092501e-01\n",
      "  -3.04296523e-01  3.07486415e-01 -7.78722391e-02  1.62652567e-01]\n",
      " [-6.10629912e-04 -3.51841860e-02  5.45584321e-01 -3.51294667e-01\n",
      "  -1.18524149e-01 -2.19020471e-02 -4.39781286e-02 -3.83548051e-01\n",
      "   1.39931306e-01  5.74086368e-01  2.86406204e-02  1.42284423e-01\n",
      "  -2.04916731e-01 -8.65343586e-03 -2.12100726e-02  3.71600650e-02]\n",
      " [ 9.34012473e-01 -6.81798980e-02  1.93383181e-04  1.91581622e-02\n",
      "  -1.93380844e-02 -9.58912354e-03 -2.83211842e-03 -7.02176197e-03\n",
      "   5.21090289e-04 -6.03646971e-04  6.75755553e-04 -1.07696187e-03\n",
      "  -2.11322593e-04 -3.91829712e-03 -8.10586207e-04  1.09568387e-02]\n",
      " [ 3.45048547e-01 -6.43404201e-02 -6.61620125e-03  2.30060983e-03\n",
      "  -5.57425199e-03 -8.24435428e-03 -1.89379882e-03 -1.25902554e-03\n",
      "   2.94494355e-04 -8.68677802e-04  2.57151015e-03 -2.03500432e-03\n",
      "   7.66609679e-04 -1.10777363e-03 -2.20253874e-04  3.16015747e-03]\n",
      " [ 1.17959296e-02 -2.36364417e-02 -5.22832237e-02  2.17573228e-03\n",
      "   5.53187370e-01  7.18718097e-02  6.62479937e-01 -3.33631895e-02\n",
      "  -3.19565326e-01  2.65799671e-01 -9.95300636e-02 -1.86596856e-01\n",
      "  -1.57397926e-01  4.15510014e-02 -1.31775206e-02  3.49034034e-02]\n",
      " [ 1.22038415e-02 -1.43702151e-02 -7.84451142e-02 -1.22263492e-03\n",
      "   7.37191081e-01  7.07394406e-02 -5.22953689e-01  1.26494970e-02\n",
      "   5.24515361e-02  5.99509291e-02  1.28598899e-01  3.41763705e-01\n",
      "  -8.02034363e-02 -1.57706574e-01 -2.06368929e-03  1.99277662e-02]\n",
      " [ 7.10682245e-04  3.43465619e-02  3.94376833e-03  1.68283784e-03\n",
      "   8.59975722e-03  4.24352661e-02  1.09342020e-03  1.51488679e-02\n",
      "  -2.20569270e-03  8.95154923e-02  9.08198059e-01 -3.85272831e-01\n",
      "   8.75498131e-02 -4.42346521e-02  3.97451548e-03  7.60308728e-02]\n",
      " [ 5.39829663e-04  1.71449804e-03 -3.03376443e-03  6.03194116e-03\n",
      "   3.21278675e-03 -4.29016538e-03 -1.76263193e-03 -6.24603219e-03\n",
      "  -1.12800272e-02  1.92210693e-02  1.29500385e-02  3.91058363e-02\n",
      "  -2.65722554e-02  1.28984183e-01  9.87116635e-01  7.71002397e-02]\n",
      " [-2.26359174e-04  5.67952543e-03 -1.56004520e-04  1.40470276e-02\n",
      "  -8.65142941e-02 -2.26126667e-02 -3.60384524e-01  5.83789110e-01\n",
      "  -1.55138314e-01  3.65529805e-01 -1.94130287e-01 -4.14958954e-01\n",
      "  -3.61024499e-01  5.80380931e-02 -1.50032099e-02  1.39992341e-01]\n",
      " [ 8.82589724e-04 -5.32971462e-03  1.01510389e-02  1.49502931e-02\n",
      "  -1.16231270e-01 -1.51338447e-02  3.37789863e-01  6.06645584e-01\n",
      "   1.79722875e-01  2.32927516e-01  1.89584777e-01  5.83100498e-01\n",
      "   1.02573067e-01 -9.29041877e-02 -1.99790895e-02  1.47407472e-01]\n",
      " [-1.79805188e-03 -2.58989707e-02  3.67339164e-01  5.78997508e-02\n",
      "   5.43600507e-02 -8.73862579e-03 -1.09753963e-02  6.14184998e-02\n",
      "  -2.17262387e-01 -3.88999134e-01  1.59180224e-01  1.99443385e-01\n",
      "  -3.03651214e-01  6.42290235e-01 -1.16987512e-01  2.68408865e-01]\n",
      " [-2.58045737e-03  1.45933423e-02 -2.95567457e-02 -3.95780206e-01\n",
      "  -4.39661331e-02  2.25256346e-02  4.98762587e-03 -5.39451614e-02\n",
      "  -2.04847008e-01 -2.32822523e-01 -7.63328522e-02 -2.72398759e-02\n",
      "   5.16722724e-02 -4.09371287e-01  2.71587097e-03  7.50925839e-01]\n",
      " [-1.38083659e-03 -1.64282112e-03  1.60655510e-02  9.32599977e-03\n",
      "  -1.41813591e-01 -1.50498636e-02  1.12134866e-01  8.58507957e-03\n",
      "  -1.14451356e-01 -2.75687397e-01  1.52409509e-01  1.23331636e-01\n",
      "  -7.15770781e-01 -4.76109117e-01  6.49530441e-02 -3.09670776e-01]\n",
      " [-1.55164453e-03  1.07663602e-03  9.70113184e-03  6.17220253e-03\n",
      "  -1.74858212e-01 -3.72126661e-02 -1.65246531e-01 -3.04083992e-02\n",
      "  -8.46428752e-01  1.72711179e-01  8.23067874e-02  2.54761219e-01\n",
      "   2.69492567e-01 -5.45532629e-02  6.85163634e-03 -2.14651406e-01]]\n",
      "<NDArray 17x16 @cpu(0)>, 'mean': \n",
      "[[0.6006765  0.39133328 2.239525   3.3632913  4.4881616  0.07415815\n",
      "  0.03271471 1.4897494  1.490992   3.961897   2.9686615  1.2723131\n",
      "  1.2296542  7.027473   4.694899   3.3824117  3.5972252 ]]\n",
      "<NDArray 1x17 @cpu(0)>}\n"
     ]
    }
   ],
   "source": [
    "import mxnet as mx\n",
    "\n",
    "# loading the unzipped artifacts\n",
    "pca_model_params = mx.ndarray.load('model_algo-1')\n",
    "\n",
    "# what are the params\n",
    "print(pca_model_params)"
   ]
  },
  {
   "cell_type": "markdown",
   "id": "47e3e343",
   "metadata": {},
   "source": [
    "#### PCA Model Attributes\n",
    "Three types of model attributes are contained within the PCA model.\n",
    "\n",
    "**mean**: The mean that was subtracted from a component in order to center it.\n",
    "\n",
    "**v**: The makeup of the principal components; (same as ‘components_’ in an sklearn PCA model).\n",
    "\n",
    "**s**: The singular values of the components for the PCA transformation. This does not exactly give the % variance from the original feature space, but can give the % variance from the projected feature space.\n",
    "\n",
    "We are only interested in v and s."
   ]
  },
  {
   "cell_type": "code",
   "execution_count": 39,
   "id": "4a228f15",
   "metadata": {},
   "outputs": [],
   "source": [
    "# get selected params\n",
    "s=pd.DataFrame(pca_model_params['s'].asnumpy())\n",
    "v=pd.DataFrame(pca_model_params['v'].asnumpy())"
   ]
  },
  {
   "cell_type": "markdown",
   "id": "c8554ef1",
   "metadata": {},
   "source": [
    "#### Data Variance\n",
    "Our current PCA model creates 33 principal components, but when we create new dimensionality-reduced training data, we'll only select a few, top n components to use. To decide how many top components to include, it's helpful to look at how much data variance the components capture.\n",
    "\n",
    "\n",
    "\n",
    "When we select the top n components to use in a new data model, we'll typically want to include enough components to capture about 80-90% of the original data variance. In this project, we are looking at generalizing over a lot of data and we'll aim for about 85% coverage.\n",
    "\n",
    "Note: The top principal components, with the largest s values, are actually at the end of the s DataFrame. Let's print out the s values for the top n, principal components."
   ]
  },
  {
   "cell_type": "code",
   "execution_count": 40,
   "id": "83f7b303",
   "metadata": {},
   "outputs": [
    {
     "name": "stdout",
     "output_type": "stream",
     "text": [
      "             0\n",
      "11  210.072556\n",
      "12  232.260086\n",
      "13  275.143311\n",
      "14  312.747681\n",
      "15  460.006256\n"
     ]
    }
   ],
   "source": [
    "# looking at top 5 components\n",
    "n_principal_components = 5\n",
    "\n",
    "start_idx = N_COMPONENTS - n_principal_components  \n",
    "\n",
    "# print a selection of s\n",
    "print(s.iloc[start_idx:, :])"
   ]
  },
  {
   "cell_type": "code",
   "execution_count": 41,
   "id": "5a629f82",
   "metadata": {},
   "outputs": [],
   "source": [
    "\n",
    "def explained_variance(s, n_top_components):\n",
    "    '''Calculates the approx. data variance that n_top_components captures.\n",
    "       :param s: A dataframe of singular values for top components; \n",
    "           the top value is in the last row.\n",
    "       :param n_top_components: An integer, the number of top components to use.\n",
    "       :return: The expected data variance covered by the n_top_components.'''\n",
    "    \n",
    "    start_idx = N_COMPONENTS - n_top_components \n",
    "    # calculate approx variance\n",
    "    exp_variance = np.square(s.iloc[start_idx:,:]).sum()/np.square(s).sum()\n",
    "    \n",
    "    return exp_variance[0]"
   ]
  },
  {
   "cell_type": "code",
   "execution_count": 42,
   "id": "dd5746b2",
   "metadata": {},
   "outputs": [
    {
     "name": "stdout",
     "output_type": "stream",
     "text": [
      "Explained variance:  0.80019265\n"
     ]
    }
   ],
   "source": [
    "# test cell\n",
    "n_top_components = 5 # select a value for the number of top components\n",
    "\n",
    "# calculate the explained variance\n",
    "exp_variance = explained_variance(s, n_top_components)\n",
    "print('Explained variance: ', exp_variance)"
   ]
  },
  {
   "cell_type": "markdown",
   "id": "16e895b7",
   "metadata": {},
   "source": [
    "#### Component Makeup\n",
    "We can now examine the makeup of each PCA component based on **the weightings of the original features that are included in the component**. The following code shows the feature-level makeup of the first component.\n",
    "\n",
    "Note that the components are again ordered from smallest to largest and so I am getting the correct rows by calling N_COMPONENTS-1 to get the top, 1, component."
   ]
  },
  {
   "cell_type": "code",
   "execution_count": 46,
   "id": "d5aa376b",
   "metadata": {},
   "outputs": [],
   "source": [
    "import matplotlib.pyplot as plt\n",
    "import seaborn as sns \n",
    "\n",
    "def display_component(v, features_list, component_num, n_weights=10):\n",
    "    \n",
    "    # get index of component (last row - component_num)\n",
    "    row_idx = N_COMPONENTS-component_num\n",
    "\n",
    "    # get the list of weights from a row in v, dataframe\n",
    "    v_1_row = v.iloc[:, row_idx]\n",
    "    v_1 = np.squeeze(v_1_row.values)\n",
    "\n",
    "    # match weights to features in counties_scaled dataframe, using list comporehension\n",
    "    comps = pd.DataFrame(list(zip(v_1, features_list)), \n",
    "                         columns=['weights', 'features'])\n",
    "\n",
    "    # we'll want to sort by the largest n_weights\n",
    "    # weights can be neg/pos and we'll sort by magnitude\n",
    "    comps['abs_weights']=comps['weights'].apply(lambda x: np.abs(x))\n",
    "    sorted_weight_data = comps.sort_values('abs_weights', ascending=False).head(n_weights)\n",
    "\n",
    "    # display using seaborn\n",
    "    ax=plt.subplots(figsize=(10,6))\n",
    "    ax=sns.barplot(data=sorted_weight_data, \n",
    "                   x=\"weights\", \n",
    "                   y=\"features\", \n",
    "                   palette=\"Blues_d\")\n",
    "    ax.set_title(\"PCA Component Makeup, Component #\" + str(component_num))\n",
    "    plt.show()"
   ]
  },
  {
   "cell_type": "code",
   "execution_count": 47,
   "id": "347c2f5c",
   "metadata": {},
   "outputs": [
    {
     "data": {
      "image/png": "[encoded data removed]",
      "text/plain": [
       "<Figure size 720x432 with 1 Axes>"
      ]
     },
     "metadata": {
      "needs_background": "light"
     },
     "output_type": "display_data"
    }
   ],
   "source": [
    "# display makeup of first component\n",
    "num = 5\n",
    "display_component(v, data_scaled.columns.values, component_num=num, n_weights=10)"
   ]
  },
  {
   "cell_type": "markdown",
   "id": "c9a91c9a",
   "metadata": {},
   "source": [
    "#### Deploying the PCA Model\n",
    "We can now deploy this model and use it to make \"predictions\". Instead of seeing what happens with some test data, we'll actually want to pass our training data into the deployed endpoint to create principal components for each data point."
   ]
  },
  {
   "cell_type": "code",
   "execution_count": 48,
   "id": "40a67abe",
   "metadata": {},
   "outputs": [
    {
     "name": "stderr",
     "output_type": "stream",
     "text": [
      "Defaulting to the only supported framework/algorithm version: 1. Ignoring framework/algorithm version: 1.\n"
     ]
    },
    {
     "name": "stdout",
     "output_type": "stream",
     "text": [
      "-------------!CPU times: user 258 ms, sys: 14.7 ms, total: 273 ms\n",
      "Wall time: 6min 32s\n"
     ]
    }
   ],
   "source": [
    "%%time\n",
    "# this takes a little while, around 8mins\n",
    "pca_predictor = pca_starbucks.deploy(initial_instance_count=1, \n",
    "                              instance_type='ml.p2.xlarge')"
   ]
  },
  {
   "cell_type": "code",
   "execution_count": 49,
   "id": "5c490049",
   "metadata": {},
   "outputs": [],
   "source": [
    "# pass np train data to the PCA model\n",
    "train_pca = pca_predictor.predict(train_data_np)"
   ]
  },
  {
   "cell_type": "code",
   "execution_count": 50,
   "id": "5e0a9555",
   "metadata": {},
   "outputs": [
    {
     "name": "stdout",
     "output_type": "stream",
     "text": [
      "label {\n",
      "  key: \"projection\"\n",
      "  value {\n",
      "    float32_tensor {\n",
      "      values: -0.04098334163427353\n",
      "      values: -0.33758804202079773\n",
      "      values: -1.5152660608291626\n",
      "      values: -0.3862875699996948\n",
      "      values: -0.16776907444000244\n",
      "      values: -0.5303946137428284\n",
      "      values: 0.20309117436408997\n",
      "      values: 0.17287135124206543\n",
      "      values: 0.4031820297241211\n",
      "      values: 0.3596435785293579\n",
      "      values: -2.0268912315368652\n",
      "      values: -3.3388209342956543\n",
      "      values: 7.19050931930542\n",
      "      values: -4.023331165313721\n",
      "      values: -1.9289969205856323\n",
      "      values: -2.620175838470459\n",
      "    }\n",
      "  }\n",
      "}\n",
      "\n"
     ]
    }
   ],
   "source": [
    "# check out the first item in the produced training features\n",
    "data_idx = 0\n",
    "print(train_pca[data_idx])"
   ]
  },
  {
   "cell_type": "code",
   "execution_count": 51,
   "id": "25d30326",
   "metadata": {},
   "outputs": [],
   "source": [
    "\n",
    "def create_transformed_df(train_pca, data_scaled, n_top_components):\n",
    "    ''' Return a dataframe of data points with component features. \n",
    "        The dataframe should be indexed by State-County and contain component values.\n",
    "        :param train_pca: A list of pca training data, returned by a PCA model.\n",
    "        :param counties_scaled: A dataframe of normalized, original features.\n",
    "        :param n_top_components: An integer, the number of top components to use.\n",
    "        :return: A dataframe, indexed by State-County, with n_top_component values as columns.        \n",
    "     '''\n",
    "    # create new dataframe to add data to\n",
    "    data_transformed=pd.DataFrame()\n",
    "\n",
    "    # for each of our new, transformed data points\n",
    "    # append the component values to the dataframe\n",
    "    for data in train_pca:\n",
    "        # get component values for each data point\n",
    "        components=data.label['projection'].float32_tensor.values\n",
    "        data_transformed = data_transformed.append([list(components)])\n",
    "\n",
    "    # index by county, just like counties_scaled\n",
    "    data_transformed.index = data_scaled.index\n",
    "\n",
    "    # keep only the top n components\n",
    "    start_idx = N_COMPONENTS - n_top_components\n",
    "    data_transformed = data_transformed.iloc[:,start_idx:]\n",
    "    \n",
    "    # reverse columns, component order     \n",
    "    return data_transformed.iloc[:, ::-1]"
   ]
  },
  {
   "cell_type": "code",
   "execution_count": 52,
   "id": "045a8165",
   "metadata": {},
   "outputs": [
    {
     "data": {
      "text/html": [
       "<div>\n",
       "<style scoped>\n",
       "    .dataframe tbody tr th:only-of-type {\n",
       "        vertical-align: middle;\n",
       "    }\n",
       "\n",
       "    .dataframe tbody tr th {\n",
       "        vertical-align: top;\n",
       "    }\n",
       "\n",
       "    .dataframe thead th {\n",
       "        text-align: right;\n",
       "    }\n",
       "</style>\n",
       "<table border=\"1\" class=\"dataframe\">\n",
       "  <thead>\n",
       "    <tr style=\"text-align: right;\">\n",
       "      <th></th>\n",
       "      <th>c_1</th>\n",
       "      <th>c_2</th>\n",
       "      <th>c_3</th>\n",
       "      <th>c_4</th>\n",
       "      <th>c_5</th>\n",
       "    </tr>\n",
       "  </thead>\n",
       "  <tbody>\n",
       "    <tr>\n",
       "      <th>0</th>\n",
       "      <td>-2.620176</td>\n",
       "      <td>-1.928997</td>\n",
       "      <td>-4.023331</td>\n",
       "      <td>7.190509</td>\n",
       "      <td>-3.338821</td>\n",
       "    </tr>\n",
       "    <tr>\n",
       "      <th>1</th>\n",
       "      <td>4.298525</td>\n",
       "      <td>2.480468</td>\n",
       "      <td>2.814970</td>\n",
       "      <td>0.869880</td>\n",
       "      <td>-3.051544</td>\n",
       "    </tr>\n",
       "    <tr>\n",
       "      <th>2</th>\n",
       "      <td>-0.090560</td>\n",
       "      <td>-2.853034</td>\n",
       "      <td>-1.224657</td>\n",
       "      <td>0.493026</td>\n",
       "      <td>1.071919</td>\n",
       "    </tr>\n",
       "    <tr>\n",
       "      <th>3</th>\n",
       "      <td>5.288128</td>\n",
       "      <td>-3.513768</td>\n",
       "      <td>-0.159936</td>\n",
       "      <td>-1.837879</td>\n",
       "      <td>1.218396</td>\n",
       "    </tr>\n",
       "    <tr>\n",
       "      <th>4</th>\n",
       "      <td>-2.118860</td>\n",
       "      <td>-2.629998</td>\n",
       "      <td>-1.038443</td>\n",
       "      <td>0.802769</td>\n",
       "      <td>0.593156</td>\n",
       "    </tr>\n",
       "  </tbody>\n",
       "</table>\n",
       "</div>"
      ],
      "text/plain": [
       "        c_1       c_2       c_3       c_4       c_5\n",
       "0 -2.620176 -1.928997 -4.023331  7.190509 -3.338821\n",
       "1  4.298525  2.480468  2.814970  0.869880 -3.051544\n",
       "2 -0.090560 -2.853034 -1.224657  0.493026  1.071919\n",
       "3  5.288128 -3.513768 -0.159936 -1.837879  1.218396\n",
       "4 -2.118860 -2.629998 -1.038443  0.802769  0.593156"
      ]
     },
     "execution_count": 52,
     "metadata": {},
     "output_type": "execute_result"
    }
   ],
   "source": [
    "# specify top n\n",
    "top_n = 5\n",
    "\n",
    "# call your function and create a new dataframe\n",
    "data_transformed = create_transformed_df(train_pca, data_scaled, n_top_components=top_n)\n",
    "\n",
    "# add descriptive columns\n",
    "PCA_list=['c_1', 'c_2', 'c_3', 'c_4', 'c_5']\n",
    "data_transformed.columns=PCA_list \n",
    "\n",
    "# print result\n",
    "data_transformed.head()"
   ]
  },
  {
   "cell_type": "code",
   "execution_count": 54,
   "id": "fb7a742b",
   "metadata": {},
   "outputs": [],
   "source": [
    "\n",
    "# Save PCA dataset\n",
    "data_transformed.to_csv('saved_progress/pca_scores.csv')"
   ]
  },
  {
   "cell_type": "code",
   "execution_count": 55,
   "id": "d648eb9a",
   "metadata": {},
   "outputs": [
    {
     "name": "stderr",
     "output_type": "stream",
     "text": [
      "The endpoint attribute has been renamed in sagemaker>=2.\n",
      "See: https://sagemaker.readthedocs.io/en/stable/v2.html for details.\n"
     ]
    }
   ],
   "source": [
    "# Delete predictor endpoint\n",
    "session.delete_endpoint(pca_predictor.endpoint)"
   ]
  },
  {
   "cell_type": "markdown",
   "id": "a6ce7bd0",
   "metadata": {},
   "source": [
    "#### Metrics\n",
    "**Eblow method**\n",
    "Inertia measures how well a data set is clustered by K-Means. It is calculated by measuring the distance between each data point and its centroid, squaring this distance and summing these squares into a cluster.\n",
    "\n",
    "A good model is one with low inertia AND a low number of clusters (K). However, this is a trade-off because as K increases, the inertia decreases.\n",
    "\n",
    "To find the optimal K for a data set, use the Elbow method; find the point where the decrease in inertia begins to decrease."
   ]
  },
  {
   "cell_type": "code",
   "execution_count": 71,
   "id": "8c8941b5",
   "metadata": {},
   "outputs": [
    {
     "data": {
      "image/png": "[encoded data removed]",
      "text/plain": [
       "<Figure size 576x360 with 1 Axes>"
      ]
     },
     "metadata": {
      "needs_background": "light"
     },
     "output_type": "display_data"
    }
   ],
   "source": [
    "from sklearn.cluster import KMeans\n",
    "import sklearn.metrics as metrics\n",
    "\n",
    "scores = []\n",
    "\n",
    "for k in range(1,11):\n",
    "    km = KMeans(n_clusters = k,random_state=1)\n",
    "    km = km.fit(data_transformed)\n",
    "    scores.append(km.inertia_)\n",
    "\n",
    "dfk = pd.DataFrame({'Cluster':range(1,11), 'Score':scores})\n",
    "plt.figure(figsize=(8,5))\n",
    "plt.plot(dfk['Cluster'], dfk['Score'], marker='o')\n",
    "plt.xlabel('Number of clusters')\n",
    "plt.ylabel('Inertia')\n",
    "plt.show()"
   ]
  },
  {
   "cell_type": "markdown",
   "id": "fa3878f7",
   "metadata": {},
   "source": [
    "#### Silhouette value\n",
    "The silhouette value measures how similar a point is to its own cluster (cohesion) compared to other clusters (separation)."
   ]
  },
  {
   "cell_type": "code",
   "execution_count": 72,
   "id": "ba070dc3",
   "metadata": {},
   "outputs": [
    {
     "name": "stdout",
     "output_type": "stream",
     "text": [
      "Silhouette score for 2 clusters k-means : 0.238 \n",
      "Silhouette score for 3 clusters k-means : 0.18 \n",
      "Silhouette score for 4 clusters k-means : 0.181 \n",
      "Silhouette score for 5 clusters k-means : 0.17 \n",
      "Silhouette score for 6 clusters k-means : 0.165 \n",
      "Silhouette score for 7 clusters k-means : 0.159 \n",
      "Silhouette score for 8 clusters k-means : 0.151 \n",
      "Silhouette score for 9 clusters k-means : 0.143 \n",
      "Silhouette score for 10 clusters k-means : 0.144 \n",
      "Silhouette score for 11 clusters k-means : 0.144 \n",
      "Silhouette score for 12 clusters k-means : 0.141 \n",
      "Silhouette score for 13 clusters k-means : 0.134 \n",
      "Silhouette score for 14 clusters k-means : 0.134 \n",
      "Silhouette score for 15 clusters k-means : 0.137 \n",
      "Silhouette score for 16 clusters k-means : 0.133 \n"
     ]
    }
   ],
   "source": [
    "for i in range(2,17):\n",
    "    kmeans_labels=KMeans(n_clusters=i,random_state=1).fit_predict(data_transformed)\n",
    "    print(\"Silhouette score for {} clusters k-means : {} \".format(i,metrics.silhouette_score(data_scaled,kmeans_labels, metric='euclidean').round(3)))"
   ]
  },
  {
   "cell_type": "markdown",
   "id": "f63c3cc5",
   "metadata": {},
   "source": [
    "#### Davies Bouldin\n",
    "Average similarity measure of each cluster to its most similar cluster, where similarity is the ratio of distances within the cluster to distances between clusters. The minimum score is zero, and lower values indicate better clustering."
   ]
  },
  {
   "cell_type": "code",
   "execution_count": 73,
   "id": "d3764093",
   "metadata": {},
   "outputs": [
    {
     "name": "stdout",
     "output_type": "stream",
     "text": [
      "Davies Bouldin Score 2: 1.655\n",
      "Davies Bouldin Score 3: 1.756\n",
      "Davies Bouldin Score 4: 1.88\n",
      "Davies Bouldin Score 5: 1.813\n",
      "Davies Bouldin Score 6: 1.748\n",
      "Davies Bouldin Score 7: 1.779\n",
      "Davies Bouldin Score 8: 1.872\n",
      "Davies Bouldin Score 9: 1.91\n",
      "Davies Bouldin Score 10: 1.833\n",
      "Davies Bouldin Score 11: 1.844\n",
      "Davies Bouldin Score 12: 1.893\n",
      "Davies Bouldin Score 13: 1.843\n",
      "Davies Bouldin Score 14: 1.874\n",
      "Davies Bouldin Score 15: 1.86\n",
      "Davies Bouldin Score 16: 1.851\n"
     ]
    }
   ],
   "source": [
    "for i in range(2, 17):\n",
    "    kmeans_labels=KMeans(n_clusters=i,random_state=1).fit_predict(data_transformed)\n",
    "    print(f'Davies Bouldin Score {i}: {metrics.davies_bouldin_score(data_scaled,kmeans_labels).round(3)}')"
   ]
  },
  {
   "cell_type": "code",
   "execution_count": 74,
   "id": "9874739d",
   "metadata": {},
   "outputs": [],
   "source": [
    "# define a KMeans estimator\n",
    "from sagemaker import KMeans\n",
    "\n",
    "NUM_CLUSTERS = 3\n",
    "\n",
    "kmeans = KMeans(role=role,\n",
    "                instance_count=1,\n",
    "                instance_type='ml.p2.xlarge',\n",
    "                output_path=output_path, # using the same output path as was defined, earlier              \n",
    "                k=NUM_CLUSTERS)"
   ]
  },
  {
   "cell_type": "markdown",
   "id": "732e8d02",
   "metadata": {},
   "source": [
    "#### Create formatted, k-means training data\n",
    "Just as before, you should convert the data_transformed df into a numpy array and then into a RecordSet. This is the required format for passing training data into a KMeans model."
   ]
  },
  {
   "cell_type": "code",
   "execution_count": 75,
   "id": "0cf369ff",
   "metadata": {},
   "outputs": [],
   "source": [
    "# convert the transformed dataframe into record_set data\n",
    "kmeans_train_data_np = data_transformed.values.astype('float32')\n",
    "kmeans_formatted_data = kmeans.record_set(kmeans_train_data_np)"
   ]
  },
  {
   "cell_type": "code",
   "execution_count": 77,
   "id": "f206c6f7",
   "metadata": {},
   "outputs": [
    {
     "name": "stderr",
     "output_type": "stream",
     "text": [
      "Defaulting to the only supported framework/algorithm version: 1. Ignoring framework/algorithm version: 1.\n",
      "Defaulting to the only supported framework/algorithm version: 1. Ignoring framework/algorithm version: 1.\n"
     ]
    },
    {
     "name": "stdout",
     "output_type": "stream",
     "text": [
      "2021-06-19 18:15:17 Starting - Starting the training job...\n",
      "2021-06-19 18:15:18 Starting - Launching requested ML instancesProfilerReport-1624126516: InProgress\n",
      "......\n",
      "2021-06-19 18:16:43 Starting - Preparing the instances for training.........\n",
      "2021-06-19 18:18:10 Downloading - Downloading input data\n",
      "2021-06-19 18:18:10 Training - Downloading the training image....\u001b[34mDocker entrypoint called with argument(s): train\u001b[0m\n",
      "\u001b[34mRunning default environment configuration script\u001b[0m\n",
      "\u001b[34m[06/19/2021 18:18:53 INFO 140720026646336] Reading default configuration from /opt/amazon/lib/python3.7/site-packages/algorithm/resources/default-input.json: {'init_method': 'random', 'mini_batch_size': '5000', 'epochs': '1', 'extra_center_factor': 'auto', 'local_lloyd_max_iter': '300', 'local_lloyd_tol': '0.0001', 'local_lloyd_init_method': 'kmeans++', 'local_lloyd_num_trials': 'auto', 'half_life_time_size': '0', 'eval_metrics': '[\"msd\"]', 'force_dense': 'true', '_disable_wait_to_read': 'false', '_enable_profiler': 'false', '_kvstore': 'auto', '_log_level': 'info', '_num_gpus': 'auto', '_num_kv_servers': '1', '_num_slices': '1', '_tuning_objective_metric': ''}\u001b[0m\n",
      "\u001b[34m[06/19/2021 18:18:53 INFO 140720026646336] Merging with provided configuration from /opt/ml/input/config/hyperparameters.json: {'feature_dim': '5', 'k': '3', 'force_dense': 'True'}\u001b[0m\n",
      "\u001b[34m[06/19/2021 18:18:53 INFO 140720026646336] Final configuration: {'init_method': 'random', 'mini_batch_size': '5000', 'epochs': '1', 'extra_center_factor': 'auto', 'local_lloyd_max_iter': '300', 'local_lloyd_tol': '0.0001', 'local_lloyd_init_method': 'kmeans++', 'local_lloyd_num_trials': 'auto', 'half_life_time_size': '0', 'eval_metrics': '[\"msd\"]', 'force_dense': 'True', '_disable_wait_to_read': 'false', '_enable_profiler': 'false', '_kvstore': 'auto', '_log_level': 'info', '_num_gpus': 'auto', '_num_kv_servers': '1', '_num_slices': '1', '_tuning_objective_metric': '', 'feature_dim': '5', 'k': '3'}\u001b[0m\n",
      "\u001b[34m[06/19/2021 18:18:53 WARNING 140720026646336] Loggers have already been setup.\u001b[0m\n",
      "\u001b[34mProcess 1 is a worker.\u001b[0m\n",
      "\u001b[34m[06/19/2021 18:18:53 INFO 140720026646336] Using default worker.\u001b[0m\n",
      "\u001b[34m[06/19/2021 18:18:53 INFO 140720026646336] Loaded iterator creator application/x-recordio-protobuf for content type ('application/x-recordio-protobuf', '1.0')\u001b[0m\n",
      "\u001b[34m[06/19/2021 18:18:53 INFO 140720026646336] Create Store: local\u001b[0m\n",
      "\u001b[34m[06/19/2021 18:18:53 INFO 140720026646336] nvidia-smi: took 0.057 seconds to run.\u001b[0m\n",
      "\u001b[34m[06/19/2021 18:18:53 INFO 140720026646336] nvidia-smi identified 1 GPUs.\u001b[0m\n",
      "\u001b[34m[06/19/2021 18:18:53 INFO 140720026646336] Number of GPUs being used: 1\u001b[0m\n",
      "\u001b[34m[06/19/2021 18:18:53 INFO 140720026646336] Checkpoint loading and saving are disabled.\u001b[0m\n",
      "\u001b[34m[06/19/2021 18:18:53 INFO 140720026646336] Setting up with params: {'init_method': 'random', 'mini_batch_size': '5000', 'epochs': '1', 'extra_center_factor': 'auto', 'local_lloyd_max_iter': '300', 'local_lloyd_tol': '0.0001', 'local_lloyd_init_method': 'kmeans++', 'local_lloyd_num_trials': 'auto', 'half_life_time_size': '0', 'eval_metrics': '[\"msd\"]', 'force_dense': 'True', '_disable_wait_to_read': 'false', '_enable_profiler': 'false', '_kvstore': 'auto', '_log_level': 'info', '_num_gpus': 'auto', '_num_kv_servers': '1', '_num_slices': '1', '_tuning_objective_metric': '', 'feature_dim': '5', 'k': '3'}\u001b[0m\n",
      "\u001b[34m[06/19/2021 18:18:53 INFO 140720026646336] 'extra_center_factor' was set to 'auto', evaluated to 10.\u001b[0m\n",
      "\u001b[34m[06/19/2021 18:18:53 INFO 140720026646336] Number of GPUs being used: 1\u001b[0m\n",
      "\u001b[34m[06/19/2021 18:18:53 INFO 140720026646336] number of center slices 1\u001b[0m\n",
      "\u001b[34m#metrics {\"StartTime\": 1624126737.6242337, \"EndTime\": 1624126737.624278, \"Dimensions\": {\"Algorithm\": \"AWS/KMeansWebscale\", \"Host\": \"algo-1\", \"Operation\": \"training\", \"Meta\": \"init_train_data_iter\"}, \"Metrics\": {\"Total Records Seen\": {\"sum\": 5000.0, \"count\": 1, \"min\": 5000, \"max\": 5000}, \"Total Batches Seen\": {\"sum\": 1.0, \"count\": 1, \"min\": 1, \"max\": 1}, \"Max Records Seen Between Resets\": {\"sum\": 5000.0, \"count\": 1, \"min\": 5000, \"max\": 5000}, \"Max Batches Seen Between Resets\": {\"sum\": 1.0, \"count\": 1, \"min\": 1, \"max\": 1}, \"Reset Count\": {\"sum\": 0.0, \"count\": 1, \"min\": 0, \"max\": 0}, \"Number of Records Since Last Reset\": {\"sum\": 5000.0, \"count\": 1, \"min\": 5000, \"max\": 5000}, \"Number of Batches Since Last Reset\": {\"sum\": 1.0, \"count\": 1, \"min\": 1, \"max\": 1}}}\n",
      "\u001b[0m\n",
      "\u001b[34m[2021-06-19 18:18:57.624] [tensorio] [info] epoch_stats={\"data_pipeline\": \"/opt/ml/input/data/train\", \"epoch\": 0, \"duration\": 3940, \"num_examples\": 1, \"num_bytes\": 220000}\u001b[0m\n",
      "\u001b[34m[2021-06-19 18:18:57.662] [tensorio] [info] epoch_stats={\"data_pipeline\": \"/opt/ml/input/data/train\", \"epoch\": 1, \"duration\": 36, \"num_examples\": 3, \"num_bytes\": 637428}\u001b[0m\n",
      "\u001b[34m[06/19/2021 18:18:57 INFO 140720026646336] processed a total of 14487 examples\u001b[0m\n",
      "\u001b[34m[06/19/2021 18:18:57 INFO 140720026646336] #progress_metric: host=algo-1, completed 100.0 % of epochs\u001b[0m\n",
      "\u001b[34m#metrics {\"StartTime\": 1624126737.6247916, \"EndTime\": 1624126737.6633384, \"Dimensions\": {\"Algorithm\": \"AWS/KMeansWebscale\", \"Host\": \"algo-1\", \"Operation\": \"training\", \"epoch\": 0, \"Meta\": \"training_data_iter\"}, \"Metrics\": {\"Total Records Seen\": {\"sum\": 19487.0, \"count\": 1, \"min\": 19487, \"max\": 19487}, \"Total Batches Seen\": {\"sum\": 4.0, \"count\": 1, \"min\": 4, \"max\": 4}, \"Max Records Seen Between Resets\": {\"sum\": 14487.0, \"count\": 1, \"min\": 14487, \"max\": 14487}, \"Max Batches Seen Between Resets\": {\"sum\": 3.0, \"count\": 1, \"min\": 3, \"max\": 3}, \"Reset Count\": {\"sum\": 1.0, \"count\": 1, \"min\": 1, \"max\": 1}, \"Number of Records Since Last Reset\": {\"sum\": 14487.0, \"count\": 1, \"min\": 14487, \"max\": 14487}, \"Number of Batches Since Last Reset\": {\"sum\": 3.0, \"count\": 1, \"min\": 3, \"max\": 3}}}\n",
      "\u001b[0m\n",
      "\u001b[34m[06/19/2021 18:18:57 INFO 140720026646336] #throughput_metric: host=algo-1, train throughput=373861.0088600118 records/second\u001b[0m\n",
      "\u001b[34m[06/19/2021 18:18:57 WARNING 140720026646336] wait_for_all_workers will not sync workers since the kv store is not running distributed\u001b[0m\n",
      "\u001b[34m[06/19/2021 18:18:57 INFO 140720026646336] shrinking 30 centers into 3\u001b[0m\n",
      "\u001b[34m[06/19/2021 18:18:57 INFO 140720026646336] local kmeans attempt #0. Current mean square distance 12.035239\u001b[0m\n",
      "\u001b[34m[06/19/2021 18:18:57 INFO 140720026646336] local kmeans attempt #1. Current mean square distance 13.042224\u001b[0m\n",
      "\u001b[34m[06/19/2021 18:18:57 INFO 140720026646336] local kmeans attempt #2. Current mean square distance 12.279467\u001b[0m\n",
      "\u001b[34m[06/19/2021 18:18:57 INFO 140720026646336] local kmeans attempt #3. Current mean square distance 12.838013\u001b[0m\n",
      "\u001b[34m[06/19/2021 18:18:57 INFO 140720026646336] local kmeans attempt #4. Current mean square distance 14.209518\u001b[0m\n",
      "\u001b[34m[06/19/2021 18:18:57 INFO 140720026646336] local kmeans attempt #5. Current mean square distance 12.035239\u001b[0m\n",
      "\u001b[34m[06/19/2021 18:18:57 INFO 140720026646336] local kmeans attempt #6. Current mean square distance 13.794526\u001b[0m\n",
      "\u001b[34m[06/19/2021 18:18:57 INFO 140720026646336] local kmeans attempt #7. Current mean square distance 12.279467\u001b[0m\n",
      "\u001b[34m[06/19/2021 18:18:57 INFO 140720026646336] local kmeans attempt #8. Current mean square distance 12.035239\u001b[0m\n",
      "\u001b[34m[06/19/2021 18:18:57 INFO 140720026646336] local kmeans attempt #9. Current mean square distance 12.572906\u001b[0m\n",
      "\u001b[34m[06/19/2021 18:18:57 INFO 140720026646336] finished shrinking process. Mean Square Distance = 12\u001b[0m\n",
      "\u001b[34m[06/19/2021 18:18:57 INFO 140720026646336] #quality_metric: host=algo-1, train msd <loss>=12.035239219665527\u001b[0m\n",
      "\u001b[34m[06/19/2021 18:18:57 INFO 140720026646336] collect from kv store took: 23.3824%, (0.010785 secs)\u001b[0m\n",
      "\u001b[34m[06/19/2021 18:18:57 INFO 140720026646336] splitting centers key-value pair took: 20.1279%, (0.009284 secs)\u001b[0m\n",
      "\u001b[34m[06/19/2021 18:18:57 INFO 140720026646336] batch data loading with context took: 14.3880%, (0.006636 secs)\u001b[0m\n",
      "\u001b[34m[06/19/2021 18:18:57 INFO 140720026646336] gradient: cluster center took: 7.9854%, (0.003683 secs)\u001b[0m\n",
      "\u001b[34m[06/19/2021 18:18:57 INFO 140720026646336] compute all data-center distances: point norm took: 7.1444%, (0.003295 secs)\u001b[0m\n",
      "\u001b[34m[06/19/2021 18:18:57 INFO 140720026646336] update state and report convergance took: 6.2485%, (0.002882 secs)\u001b[0m\n",
      "\u001b[34m[06/19/2021 18:18:57 INFO 140720026646336] predict compute msd took: 6.0547%, (0.002793 secs)\u001b[0m\n",
      "\u001b[34m[06/19/2021 18:18:57 INFO 140720026646336] compute all data-center distances: inner product took: 5.6856%, (0.002622 secs)\u001b[0m\n",
      "\u001b[34m[06/19/2021 18:18:57 INFO 140720026646336] gradient: one_hot took: 4.4693%, (0.002061 secs)\u001b[0m\n",
      "\u001b[34m[06/19/2021 18:18:57 INFO 140720026646336] compute all data-center distances: center norm took: 1.5347%, (0.000708 secs)\u001b[0m\n",
      "\u001b[34m[06/19/2021 18:18:57 INFO 140720026646336] gradient: cluster size  took: 1.4272%, (0.000658 secs)\u001b[0m\n",
      "\u001b[34m[06/19/2021 18:18:57 INFO 140720026646336] update set-up time took: 1.4003%, (0.000646 secs)\u001b[0m\n",
      "\u001b[34m[06/19/2021 18:18:57 INFO 140720026646336] predict minus dist took: 0.1515%, (0.000070 secs)\u001b[0m\n",
      "\u001b[34m[06/19/2021 18:18:57 INFO 140720026646336] TOTAL took: 0.04612278938293457\u001b[0m\n",
      "\u001b[34m[06/19/2021 18:18:57 INFO 140720026646336] Number of GPUs being used: 1\u001b[0m\n",
      "\u001b[34m#metrics {\"StartTime\": 1624126733.683066, \"EndTime\": 1624126737.9156246, \"Dimensions\": {\"Algorithm\": \"AWS/KMeansWebscale\", \"Host\": \"algo-1\", \"Operation\": \"training\"}, \"Metrics\": {\"initialize.time\": {\"sum\": 3932.8765869140625, \"count\": 1, \"min\": 3932.8765869140625, \"max\": 3932.8765869140625}, \"epochs\": {\"sum\": 1.0, \"count\": 1, \"min\": 1, \"max\": 1}, \"update.time\": {\"sum\": 38.28692436218262, \"count\": 1, \"min\": 38.28692436218262, \"max\": 38.28692436218262}, \"_shrink.time\": {\"sum\": 247.52163887023926, \"count\": 1, \"min\": 247.52163887023926, \"max\": 247.52163887023926}, \"finalize.time\": {\"sum\": 250.8230209350586, \"count\": 1, \"min\": 250.8230209350586, \"max\": 250.8230209350586}, \"model.serialize.time\": {\"sum\": 0.9136199951171875, \"count\": 1, \"min\": 0.9136199951171875, \"max\": 0.9136199951171875}}}\n",
      "\u001b[0m\n",
      "\u001b[34m[06/19/2021 18:18:57 INFO 140720026646336] Test data is not provided.\u001b[0m\n",
      "\u001b[34m#metrics {\"StartTime\": 1624126737.915739, \"EndTime\": 1624126737.9160588, \"Dimensions\": {\"Algorithm\": \"AWS/KMeansWebscale\", \"Host\": \"algo-1\", \"Operation\": \"training\"}, \"Metrics\": {\"setuptime\": {\"sum\": 27.770519256591797, \"count\": 1, \"min\": 27.770519256591797, \"max\": 27.770519256591797}, \"totaltime\": {\"sum\": 4369.908094406128, \"count\": 1, \"min\": 4369.908094406128, \"max\": 4369.908094406128}}}\n",
      "\u001b[0m\n",
      "\n",
      "2021-06-19 18:19:09 Uploading - Uploading generated training model\n",
      "2021-06-19 18:19:09 Completed - Training job completed\n",
      "Training seconds: 72\n",
      "Billable seconds: 72\n",
      "CPU times: user 664 ms, sys: 52.9 ms, total: 717 ms\n",
      "Wall time: 4min 13s\n"
     ]
    }
   ],
   "source": [
    "%%time\n",
    "\n",
    "# train kmeans\n",
    "kmeans.fit(kmeans_formatted_data)"
   ]
  },
  {
   "cell_type": "markdown",
   "id": "84f09129",
   "metadata": {},
   "source": [
    "#### Deploy the k-means model"
   ]
  },
  {
   "cell_type": "code",
   "execution_count": 78,
   "id": "249b28f9",
   "metadata": {},
   "outputs": [
    {
     "name": "stderr",
     "output_type": "stream",
     "text": [
      "Defaulting to the only supported framework/algorithm version: 1. Ignoring framework/algorithm version: 1.\n"
     ]
    },
    {
     "name": "stdout",
     "output_type": "stream",
     "text": [
      "-------------------!CPU times: user 349 ms, sys: 17.8 ms, total: 367 ms\n",
      "Wall time: 9min 32s\n"
     ]
    }
   ],
   "source": [
    "%%time\n",
    "# deploy the model to create a predictor\n",
    "kmeans_predictor = kmeans.deploy(initial_instance_count=1, \n",
    "                                 instance_type='ml.p2.xlarge')"
   ]
  },
  {
   "cell_type": "markdown",
   "id": "45d76644",
   "metadata": {},
   "source": [
    "#### Pass in the training data and assign predicted cluster labels\n",
    "After deploying the model, you can pass in the k-means training data, as a numpy array, and get resultant, predicted cluster labels for each data point."
   ]
  },
  {
   "cell_type": "code",
   "execution_count": 79,
   "id": "85ca4f07",
   "metadata": {},
   "outputs": [],
   "source": [
    "# get the predicted clusters for all the kmeans training data\n",
    "cluster_info=kmeans_predictor.predict(kmeans_train_data_np)"
   ]
  },
  {
   "cell_type": "markdown",
   "id": "833d5b61",
   "metadata": {},
   "source": [
    "#### Exploring the resultant clusters\n",
    "The resulting predictions should give you information about the cluster that each data point belongs to."
   ]
  },
  {
   "cell_type": "code",
   "execution_count": 80,
   "id": "31c80837",
   "metadata": {},
   "outputs": [
    {
     "name": "stdout",
     "output_type": "stream",
     "text": [
      "Person is:  0\n",
      "\n",
      "label {\n",
      "  key: \"closest_cluster\"\n",
      "  value {\n",
      "    float32_tensor {\n",
      "      values: 1.0\n",
      "    }\n",
      "  }\n",
      "}\n",
      "label {\n",
      "  key: \"distance_to_cluster\"\n",
      "  value {\n",
      "    float32_tensor {\n",
      "      values: 9.490724563598633\n",
      "    }\n",
      "  }\n",
      "}\n",
      "\n"
     ]
    }
   ],
   "source": [
    "# print cluster info for first data point\n",
    "data_idx = 0\n",
    "\n",
    "print('Person is: ', data_transformed.index[data_idx])\n",
    "print()\n",
    "print(cluster_info[data_idx])"
   ]
  },
  {
   "cell_type": "markdown",
   "id": "f3064562",
   "metadata": {},
   "source": [
    "#### Visualize the distribution of data over clusters\n",
    "Get the cluster labels for each of our data points (counties) and visualize the distribution of points over each cluster."
   ]
  },
  {
   "cell_type": "code",
   "execution_count": 81,
   "id": "316327db",
   "metadata": {},
   "outputs": [],
   "source": [
    "# get all cluster labels\n",
    "cluster_labels = [c.label['closest_cluster'].float32_tensor.values[0] for c in cluster_info]"
   ]
  },
  {
   "cell_type": "code",
   "execution_count": 82,
   "id": "3aa67f4f",
   "metadata": {},
   "outputs": [
    {
     "name": "stdout",
     "output_type": "stream",
     "text": [
      "0.0    5329\n",
      "1.0    4941\n",
      "2.0    4217\n",
      "Name: 0, dtype: int64\n"
     ]
    }
   ],
   "source": [
    "# count up the points in each cluster\n",
    "cluster_df = pd.DataFrame(cluster_labels)[0].value_counts()\n",
    "\n",
    "print(cluster_df)"
   ]
  },
  {
   "cell_type": "code",
   "execution_count": 83,
   "id": "ed931d27",
   "metadata": {},
   "outputs": [
    {
     "data": {
      "image/png": "[encoded data removed]",
      "text/plain": [
       "<Figure size 432x216 with 1 Axes>"
      ]
     },
     "metadata": {
      "needs_background": "light"
     },
     "output_type": "display_data"
    }
   ],
   "source": [
    "ax =plt.subplots(figsize=(6,3))\n",
    "ax = plt.hist(cluster_labels, bins=8,  range=(-0.5, 2.5), color='blue', rwidth=0.5)\n",
    "\n",
    "title=\"Histogram of Cluster Counts\"\n",
    "plt.title(title, fontsize=12)\n",
    "plt.show()"
   ]
  },
  {
   "cell_type": "markdown",
   "id": "cb61399b",
   "metadata": {},
   "source": [
    "#### Delete the Endpoint!\n",
    "Now that you've deployed the k-means model and extracted the cluster labels for each data point, you no longer need the k-means endpoint."
   ]
  },
  {
   "cell_type": "code",
   "execution_count": 84,
   "id": "b5881b07",
   "metadata": {},
   "outputs": [
    {
     "name": "stderr",
     "output_type": "stream",
     "text": [
      "The endpoint attribute has been renamed in sagemaker>=2.\n",
      "See: https://sagemaker.readthedocs.io/en/stable/v2.html for details.\n"
     ]
    }
   ],
   "source": [
    "# Delete kmeans endpoint\n",
    "session.delete_endpoint(kmeans_predictor.endpoint)"
   ]
  },
  {
   "cell_type": "markdown",
   "id": "34f8bbe7",
   "metadata": {},
   "source": [
    "### Model Attributes & Explainability\n",
    "Explaining the result of the modeling is an important step in making use of our analysis. By combining PCA and k-means, and the information contained in the model attributes within a SageMaker trained model, you can learn about a population and remark on some patterns you've found, based on the data."
   ]
  },
  {
   "cell_type": "code",
   "execution_count": 86,
   "id": "0eb9943c",
   "metadata": {},
   "outputs": [
    {
     "data": {
      "text/plain": [
       "2304"
      ]
     },
     "execution_count": 86,
     "metadata": {},
     "output_type": "execute_result"
    }
   ],
   "source": [
    "# Download and unzip the kmeans model file\n",
    "kmeans_job_name = 'kmeans-2021-06-19-18-15-16-449'\n",
    "\n",
    "model_key = os.path.join(prefix, kmeans_job_name, 'output/model.tar.gz')\n",
    "\n",
    "# download the model file\n",
    "boto3.resource('s3').Bucket(bucket_name).download_file(model_key, 'model.tar.gz')\n",
    "os.system('tar -zxvf model.tar.gz')\n",
    "os.system('unzip model_algo-1')"
   ]
  },
  {
   "cell_type": "code",
   "execution_count": 87,
   "id": "3ba6ee7b",
   "metadata": {},
   "outputs": [
    {
     "name": "stdout",
     "output_type": "stream",
     "text": [
      "[\n",
      "[[ 2.3058112  -1.9899037  -0.50196165  0.10453863  0.20930876]\n",
      " [-4.3760934  -0.44408292  0.36875993 -0.23492788 -0.12042815]\n",
      " [ 1.8572959   2.8362374   0.20773415  0.11898171 -0.12316365]]\n",
      "<NDArray 3x5 @cpu(0)>]\n"
     ]
    }
   ],
   "source": [
    "\n",
    "# Get the trained kmeans params using mxnet\n",
    "kmeans_model_params = mx.ndarray.load('model_algo-1')\n",
    "\n",
    "print(kmeans_model_params)"
   ]
  },
  {
   "cell_type": "code",
   "execution_count": 88,
   "id": "237a1f06",
   "metadata": {},
   "outputs": [
    {
     "data": {
      "text/html": [
       "<div>\n",
       "<style scoped>\n",
       "    .dataframe tbody tr th:only-of-type {\n",
       "        vertical-align: middle;\n",
       "    }\n",
       "\n",
       "    .dataframe tbody tr th {\n",
       "        vertical-align: top;\n",
       "    }\n",
       "\n",
       "    .dataframe thead th {\n",
       "        text-align: right;\n",
       "    }\n",
       "</style>\n",
       "<table border=\"1\" class=\"dataframe\">\n",
       "  <thead>\n",
       "    <tr style=\"text-align: right;\">\n",
       "      <th></th>\n",
       "      <th>c_1</th>\n",
       "      <th>c_2</th>\n",
       "      <th>c_3</th>\n",
       "      <th>c_4</th>\n",
       "      <th>c_5</th>\n",
       "    </tr>\n",
       "  </thead>\n",
       "  <tbody>\n",
       "    <tr>\n",
       "      <th>0</th>\n",
       "      <td>2.305811</td>\n",
       "      <td>-1.989904</td>\n",
       "      <td>-0.501962</td>\n",
       "      <td>0.104539</td>\n",
       "      <td>0.209309</td>\n",
       "    </tr>\n",
       "    <tr>\n",
       "      <th>1</th>\n",
       "      <td>-4.376093</td>\n",
       "      <td>-0.444083</td>\n",
       "      <td>0.368760</td>\n",
       "      <td>-0.234928</td>\n",
       "      <td>-0.120428</td>\n",
       "    </tr>\n",
       "    <tr>\n",
       "      <th>2</th>\n",
       "      <td>1.857296</td>\n",
       "      <td>2.836237</td>\n",
       "      <td>0.207734</td>\n",
       "      <td>0.118982</td>\n",
       "      <td>-0.123164</td>\n",
       "    </tr>\n",
       "  </tbody>\n",
       "</table>\n",
       "</div>"
      ],
      "text/plain": [
       "        c_1       c_2       c_3       c_4       c_5\n",
       "0  2.305811 -1.989904 -0.501962  0.104539  0.209309\n",
       "1 -4.376093 -0.444083  0.368760 -0.234928 -0.120428\n",
       "2  1.857296  2.836237  0.207734  0.118982 -0.123164"
      ]
     },
     "metadata": {},
     "output_type": "display_data"
    }
   ],
   "source": [
    "# Get all the centroids\n",
    "cluster_centroids = pd.DataFrame(kmeans_model_params[0].asnumpy())\n",
    "cluster_centroids.columns = data_transformed.columns\n",
    "\n",
    "display(cluster_centroids)"
   ]
  },
  {
   "cell_type": "code",
   "execution_count": 90,
   "id": "fdce7f64",
   "metadata": {},
   "outputs": [],
   "source": [
    "# Save clusteres\n",
    "cluster_centroids.to_csv('saved_progress/cluster_centroids.csv')"
   ]
  },
  {
   "cell_type": "markdown",
   "id": "324a3291",
   "metadata": {},
   "source": [
    "#### Visualizing Centroids in Component Space"
   ]
  },
  {
   "cell_type": "code",
   "execution_count": 91,
   "id": "af5a85d2",
   "metadata": {},
   "outputs": [
    {
     "data": {
      "image/png": "[encoded data removed]",
      "text/plain": [
       "<Figure size 864x648 with 2 Axes>"
      ]
     },
     "metadata": {
      "needs_background": "light"
     },
     "output_type": "display_data"
    }
   ],
   "source": [
    "# generate a heatmap in component space, using the seaborn library\n",
    "plt.figure(figsize = (12,9))\n",
    "ax = sns.heatmap(cluster_centroids.T, cmap = 'YlGnBu')\n",
    "ax.set_xlabel(\"Cluster\")\n",
    "plt.yticks(fontsize = 16)\n",
    "plt.xticks(fontsize = 16)\n",
    "ax.set_title(\"Attribute Value by Centroid\")\n",
    "plt.show()"
   ]
  },
  {
   "cell_type": "markdown",
   "id": "02cf605b",
   "metadata": {},
   "source": [
    "#### Natural Grouping"
   ]
  },
  {
   "cell_type": "code",
   "execution_count": 92,
   "id": "ec11cc69",
   "metadata": {},
   "outputs": [
    {
     "data": {
      "text/html": [
       "<div>\n",
       "<style scoped>\n",
       "    .dataframe tbody tr th:only-of-type {\n",
       "        vertical-align: middle;\n",
       "    }\n",
       "\n",
       "    .dataframe tbody tr th {\n",
       "        vertical-align: top;\n",
       "    }\n",
       "\n",
       "    .dataframe thead th {\n",
       "        text-align: right;\n",
       "    }\n",
       "</style>\n",
       "<table border=\"1\" class=\"dataframe\">\n",
       "  <thead>\n",
       "    <tr style=\"text-align: right;\">\n",
       "      <th></th>\n",
       "      <th>c_1</th>\n",
       "      <th>c_2</th>\n",
       "      <th>c_3</th>\n",
       "      <th>c_4</th>\n",
       "      <th>c_5</th>\n",
       "      <th>labels</th>\n",
       "    </tr>\n",
       "  </thead>\n",
       "  <tbody>\n",
       "    <tr>\n",
       "      <th>3834</th>\n",
       "      <td>5.914986</td>\n",
       "      <td>-2.451452</td>\n",
       "      <td>-0.638013</td>\n",
       "      <td>-1.840802</td>\n",
       "      <td>0.686617</td>\n",
       "      <td>0</td>\n",
       "    </tr>\n",
       "    <tr>\n",
       "      <th>4668</th>\n",
       "      <td>3.279210</td>\n",
       "      <td>-2.140202</td>\n",
       "      <td>0.539204</td>\n",
       "      <td>1.997913</td>\n",
       "      <td>-4.223079</td>\n",
       "      <td>0</td>\n",
       "    </tr>\n",
       "    <tr>\n",
       "      <th>4667</th>\n",
       "      <td>1.446168</td>\n",
       "      <td>-2.107751</td>\n",
       "      <td>-0.689240</td>\n",
       "      <td>-0.534639</td>\n",
       "      <td>2.434066</td>\n",
       "      <td>0</td>\n",
       "    </tr>\n",
       "    <tr>\n",
       "      <th>10286</th>\n",
       "      <td>0.689152</td>\n",
       "      <td>-1.305663</td>\n",
       "      <td>1.560146</td>\n",
       "      <td>1.393200</td>\n",
       "      <td>3.358397</td>\n",
       "      <td>0</td>\n",
       "    </tr>\n",
       "    <tr>\n",
       "      <th>4665</th>\n",
       "      <td>0.956781</td>\n",
       "      <td>-0.848757</td>\n",
       "      <td>-1.953558</td>\n",
       "      <td>1.493148</td>\n",
       "      <td>2.169174</td>\n",
       "      <td>0</td>\n",
       "    </tr>\n",
       "    <tr>\n",
       "      <th>4664</th>\n",
       "      <td>-0.288305</td>\n",
       "      <td>-1.160262</td>\n",
       "      <td>1.548514</td>\n",
       "      <td>-1.084404</td>\n",
       "      <td>-0.892948</td>\n",
       "      <td>0</td>\n",
       "    </tr>\n",
       "    <tr>\n",
       "      <th>4663</th>\n",
       "      <td>3.658467</td>\n",
       "      <td>-1.215688</td>\n",
       "      <td>-1.183427</td>\n",
       "      <td>-2.189341</td>\n",
       "      <td>2.011821</td>\n",
       "      <td>0</td>\n",
       "    </tr>\n",
       "    <tr>\n",
       "      <th>4662</th>\n",
       "      <td>-0.914955</td>\n",
       "      <td>-2.708002</td>\n",
       "      <td>-2.644798</td>\n",
       "      <td>-4.271396</td>\n",
       "      <td>0.300070</td>\n",
       "      <td>0</td>\n",
       "    </tr>\n",
       "    <tr>\n",
       "      <th>10288</th>\n",
       "      <td>-0.220405</td>\n",
       "      <td>-2.858996</td>\n",
       "      <td>-0.332667</td>\n",
       "      <td>0.988530</td>\n",
       "      <td>-1.165881</td>\n",
       "      <td>0</td>\n",
       "    </tr>\n",
       "    <tr>\n",
       "      <th>4659</th>\n",
       "      <td>1.624834</td>\n",
       "      <td>-0.639665</td>\n",
       "      <td>-3.140638</td>\n",
       "      <td>2.187498</td>\n",
       "      <td>0.039481</td>\n",
       "      <td>0</td>\n",
       "    </tr>\n",
       "    <tr>\n",
       "      <th>4670</th>\n",
       "      <td>1.937927</td>\n",
       "      <td>-1.313908</td>\n",
       "      <td>1.023627</td>\n",
       "      <td>1.952764</td>\n",
       "      <td>2.494017</td>\n",
       "      <td>0</td>\n",
       "    </tr>\n",
       "    <tr>\n",
       "      <th>10289</th>\n",
       "      <td>5.532054</td>\n",
       "      <td>-2.548737</td>\n",
       "      <td>-0.035540</td>\n",
       "      <td>-2.221488</td>\n",
       "      <td>0.271488</td>\n",
       "      <td>0</td>\n",
       "    </tr>\n",
       "    <tr>\n",
       "      <th>4655</th>\n",
       "      <td>-0.556279</td>\n",
       "      <td>-0.861966</td>\n",
       "      <td>0.064442</td>\n",
       "      <td>-0.711049</td>\n",
       "      <td>-2.006582</td>\n",
       "      <td>0</td>\n",
       "    </tr>\n",
       "    <tr>\n",
       "      <th>10292</th>\n",
       "      <td>6.812246</td>\n",
       "      <td>-2.636224</td>\n",
       "      <td>-0.074573</td>\n",
       "      <td>-1.700341</td>\n",
       "      <td>0.947443</td>\n",
       "      <td>0</td>\n",
       "    </tr>\n",
       "    <tr>\n",
       "      <th>10295</th>\n",
       "      <td>0.622058</td>\n",
       "      <td>-1.357978</td>\n",
       "      <td>2.310035</td>\n",
       "      <td>0.480087</td>\n",
       "      <td>1.379302</td>\n",
       "      <td>0</td>\n",
       "    </tr>\n",
       "    <tr>\n",
       "      <th>4652</th>\n",
       "      <td>-0.893234</td>\n",
       "      <td>-2.754586</td>\n",
       "      <td>-1.577792</td>\n",
       "      <td>0.724335</td>\n",
       "      <td>0.242701</td>\n",
       "      <td>0</td>\n",
       "    </tr>\n",
       "    <tr>\n",
       "      <th>4651</th>\n",
       "      <td>1.227211</td>\n",
       "      <td>-2.893517</td>\n",
       "      <td>-0.953374</td>\n",
       "      <td>0.815007</td>\n",
       "      <td>-2.501335</td>\n",
       "      <td>0</td>\n",
       "    </tr>\n",
       "    <tr>\n",
       "      <th>4649</th>\n",
       "      <td>-0.912529</td>\n",
       "      <td>-0.849522</td>\n",
       "      <td>-0.911235</td>\n",
       "      <td>-0.749021</td>\n",
       "      <td>1.105924</td>\n",
       "      <td>0</td>\n",
       "    </tr>\n",
       "    <tr>\n",
       "      <th>4648</th>\n",
       "      <td>1.049526</td>\n",
       "      <td>-2.278349</td>\n",
       "      <td>1.233531</td>\n",
       "      <td>-2.021437</td>\n",
       "      <td>-0.072677</td>\n",
       "      <td>0</td>\n",
       "    </tr>\n",
       "    <tr>\n",
       "      <th>4647</th>\n",
       "      <td>-0.867322</td>\n",
       "      <td>-1.542583</td>\n",
       "      <td>-2.419939</td>\n",
       "      <td>-0.132170</td>\n",
       "      <td>0.844720</td>\n",
       "      <td>0</td>\n",
       "    </tr>\n",
       "  </tbody>\n",
       "</table>\n",
       "</div>"
      ],
      "text/plain": [
       "            c_1       c_2       c_3       c_4       c_5  labels\n",
       "3834   5.914986 -2.451452 -0.638013 -1.840802  0.686617       0\n",
       "4668   3.279210 -2.140202  0.539204  1.997913 -4.223079       0\n",
       "4667   1.446168 -2.107751 -0.689240 -0.534639  2.434066       0\n",
       "10286  0.689152 -1.305663  1.560146  1.393200  3.358397       0\n",
       "4665   0.956781 -0.848757 -1.953558  1.493148  2.169174       0\n",
       "4664  -0.288305 -1.160262  1.548514 -1.084404 -0.892948       0\n",
       "4663   3.658467 -1.215688 -1.183427 -2.189341  2.011821       0\n",
       "4662  -0.914955 -2.708002 -2.644798 -4.271396  0.300070       0\n",
       "10288 -0.220405 -2.858996 -0.332667  0.988530 -1.165881       0\n",
       "4659   1.624834 -0.639665 -3.140638  2.187498  0.039481       0\n",
       "4670   1.937927 -1.313908  1.023627  1.952764  2.494017       0\n",
       "10289  5.532054 -2.548737 -0.035540 -2.221488  0.271488       0\n",
       "4655  -0.556279 -0.861966  0.064442 -0.711049 -2.006582       0\n",
       "10292  6.812246 -2.636224 -0.074573 -1.700341  0.947443       0\n",
       "10295  0.622058 -1.357978  2.310035  0.480087  1.379302       0\n",
       "4652  -0.893234 -2.754586 -1.577792  0.724335  0.242701       0\n",
       "4651   1.227211 -2.893517 -0.953374  0.815007 -2.501335       0\n",
       "4649  -0.912529 -0.849522 -0.911235 -0.749021  1.105924       0\n",
       "4648   1.049526 -2.278349  1.233531 -2.021437 -0.072677       0\n",
       "4647  -0.867322 -1.542583 -2.419939 -0.132170  0.844720       0"
      ]
     },
     "execution_count": 92,
     "metadata": {},
     "output_type": "execute_result"
    }
   ],
   "source": [
    "\n",
    "# add a 'labels' column to the dataframe\n",
    "data_transformed['labels']=list(map(int, cluster_labels))\n",
    "\n",
    "# sort by cluster label 0-6\n",
    "sorted_clients = data_transformed.sort_values('labels', ascending=True)\n",
    "# view some pts in cluster 0\n",
    "sorted_clients.head(20)"
   ]
  },
  {
   "cell_type": "code",
   "execution_count": 94,
   "id": "38cece80",
   "metadata": {},
   "outputs": [],
   "source": [
    "cluster_centroids.to_csv('saved_progress/kmeans_clusters.csv')"
   ]
  },
  {
   "cell_type": "code",
   "execution_count": 95,
   "id": "9ad2437f",
   "metadata": {},
   "outputs": [
    {
     "data": {
      "text/html": [
       "<div>\n",
       "<style scoped>\n",
       "    .dataframe tbody tr th:only-of-type {\n",
       "        vertical-align: middle;\n",
       "    }\n",
       "\n",
       "    .dataframe tbody tr th {\n",
       "        vertical-align: top;\n",
       "    }\n",
       "\n",
       "    .dataframe thead th {\n",
       "        text-align: right;\n",
       "    }\n",
       "</style>\n",
       "<table border=\"1\" class=\"dataframe\">\n",
       "  <thead>\n",
       "    <tr style=\"text-align: right;\">\n",
       "      <th></th>\n",
       "      <th>c_1</th>\n",
       "      <th>c_2</th>\n",
       "      <th>c_3</th>\n",
       "      <th>c_4</th>\n",
       "      <th>c_5</th>\n",
       "      <th>labels</th>\n",
       "    </tr>\n",
       "  </thead>\n",
       "  <tbody>\n",
       "    <tr>\n",
       "      <th>0</th>\n",
       "      <td>-2.620176</td>\n",
       "      <td>-1.928997</td>\n",
       "      <td>-4.023331</td>\n",
       "      <td>7.190509</td>\n",
       "      <td>-3.338821</td>\n",
       "      <td>1</td>\n",
       "    </tr>\n",
       "    <tr>\n",
       "      <th>4</th>\n",
       "      <td>-2.118860</td>\n",
       "      <td>-2.629998</td>\n",
       "      <td>-1.038443</td>\n",
       "      <td>0.802769</td>\n",
       "      <td>0.593156</td>\n",
       "      <td>1</td>\n",
       "    </tr>\n",
       "    <tr>\n",
       "      <th>6</th>\n",
       "      <td>-5.679704</td>\n",
       "      <td>-1.111900</td>\n",
       "      <td>-3.203012</td>\n",
       "      <td>3.253933</td>\n",
       "      <td>1.779346</td>\n",
       "      <td>1</td>\n",
       "    </tr>\n",
       "    <tr>\n",
       "      <th>8</th>\n",
       "      <td>-4.136014</td>\n",
       "      <td>3.675967</td>\n",
       "      <td>-2.232442</td>\n",
       "      <td>-2.868910</td>\n",
       "      <td>0.061204</td>\n",
       "      <td>1</td>\n",
       "    </tr>\n",
       "    <tr>\n",
       "      <th>10</th>\n",
       "      <td>-4.430820</td>\n",
       "      <td>3.114770</td>\n",
       "      <td>3.403000</td>\n",
       "      <td>4.401917</td>\n",
       "      <td>-1.578365</td>\n",
       "      <td>1</td>\n",
       "    </tr>\n",
       "  </tbody>\n",
       "</table>\n",
       "</div>"
      ],
      "text/plain": [
       "         c_1       c_2       c_3       c_4       c_5  labels\n",
       "0  -2.620176 -1.928997 -4.023331  7.190509 -3.338821       1\n",
       "4  -2.118860 -2.629998 -1.038443  0.802769  0.593156       1\n",
       "6  -5.679704 -1.111900 -3.203012  3.253933  1.779346       1\n",
       "8  -4.136014  3.675967 -2.232442 -2.868910  0.061204       1\n",
       "10 -4.430820  3.114770  3.403000  4.401917 -1.578365       1"
      ]
     },
     "execution_count": 95,
     "metadata": {},
     "output_type": "execute_result"
    }
   ],
   "source": [
    "# Get all counties with label == 1\n",
    "cluster = data_transformed[data_transformed['labels']==1]\n",
    "cluster.head()"
   ]
  },
  {
   "cell_type": "code",
   "execution_count": 96,
   "id": "a3feef03",
   "metadata": {},
   "outputs": [
    {
     "name": "stdout",
     "output_type": "stream",
     "text": [
      "Collecting hdbscan\n",
      "  Downloading hdbscan-0.8.27.tar.gz (6.4 MB)\n",
      "\u001b[K     |████████████████████████████████| 6.4 MB 22.9 MB/s eta 0:00:01\n",
      "\u001b[?25h  Installing build dependencies ... \u001b[?25ldone\n",
      "\u001b[?25h  Getting requirements to build wheel ... \u001b[?25ldone\n",
      "\u001b[?25h    Preparing wheel metadata ... \u001b[?25ldone\n",
      "\u001b[?25hRequirement already satisfied: scipy>=1.0 in /home/ec2-user/anaconda3/envs/python3/lib/python3.6/site-packages (from hdbscan) (1.5.3)\n",
      "Requirement already satisfied: scikit-learn>=0.20 in /home/ec2-user/anaconda3/envs/python3/lib/python3.6/site-packages (from hdbscan) (0.24.1)\n",
      "Requirement already satisfied: numpy>=1.16 in /home/ec2-user/anaconda3/envs/python3/lib/python3.6/site-packages (from hdbscan) (1.19.5)\n",
      "Requirement already satisfied: cython>=0.27 in /home/ec2-user/anaconda3/envs/python3/lib/python3.6/site-packages (from hdbscan) (0.29.22)\n",
      "Requirement already satisfied: six in /home/ec2-user/anaconda3/envs/python3/lib/python3.6/site-packages (from hdbscan) (1.15.0)\n",
      "Requirement already satisfied: joblib>=1.0 in /home/ec2-user/anaconda3/envs/python3/lib/python3.6/site-packages (from hdbscan) (1.0.1)\n",
      "Requirement already satisfied: threadpoolctl>=2.0.0 in /home/ec2-user/anaconda3/envs/python3/lib/python3.6/site-packages (from scikit-learn>=0.20->hdbscan) (2.1.0)\n",
      "Building wheels for collected packages: hdbscan\n",
      "  Building wheel for hdbscan (PEP 517) ... \u001b[?25ldone\n",
      "\u001b[?25h  Created wheel for hdbscan: filename=hdbscan-0.8.27-cp36-cp36m-linux_x86_64.whl size=2667468 sha256=22b5e7e4382da3eedff25cc61719d2f5968e90636c88049948baa6a3476c9d24\n",
      "  Stored in directory: /home/ec2-user/.cache/pip/wheels/70/52/fe/83ef5a0e879c48df9968d931d41046226e4cb19a166f0223d2\n",
      "Successfully built hdbscan\n",
      "Installing collected packages: hdbscan\n",
      "Successfully installed hdbscan-0.8.27\n"
     ]
    }
   ],
   "source": [
    "!pip install hdbscan"
   ]
  },
  {
   "cell_type": "code",
   "execution_count": 99,
   "id": "6ef3a746",
   "metadata": {},
   "outputs": [],
   "source": [
    "import hdbscan"
   ]
  },
  {
   "cell_type": "code",
   "execution_count": 142,
   "id": "9ac33c31",
   "metadata": {},
   "outputs": [
    {
     "data": {
      "text/html": [
       "<div>\n",
       "<style scoped>\n",
       "    .dataframe tbody tr th:only-of-type {\n",
       "        vertical-align: middle;\n",
       "    }\n",
       "\n",
       "    .dataframe tbody tr th {\n",
       "        vertical-align: top;\n",
       "    }\n",
       "\n",
       "    .dataframe thead th {\n",
       "        text-align: right;\n",
       "    }\n",
       "</style>\n",
       "<table border=\"1\" class=\"dataframe\">\n",
       "  <thead>\n",
       "    <tr style=\"text-align: right;\">\n",
       "      <th></th>\n",
       "      <th>gender</th>\n",
       "      <th>income</th>\n",
       "      <th>total_completed</th>\n",
       "      <th>total_viewed</th>\n",
       "      <th>total_received</th>\n",
       "      <th>total_spent</th>\n",
       "      <th>avg_spent</th>\n",
       "      <th>completed_bogo</th>\n",
       "      <th>completed_discount</th>\n",
       "      <th>age_range</th>\n",
       "      <th>num_transactions_range</th>\n",
       "      <th>bogos_received_range</th>\n",
       "      <th>discounts_received_range</th>\n",
       "      <th>percent_viewed_range</th>\n",
       "      <th>percent_completed_range</th>\n",
       "      <th>discount_percent_completed_range</th>\n",
       "      <th>bogo_percent_completed_range</th>\n",
       "    </tr>\n",
       "  </thead>\n",
       "  <tbody>\n",
       "    <tr>\n",
       "      <th>0</th>\n",
       "      <td>0</td>\n",
       "      <td>0.911111</td>\n",
       "      <td>1</td>\n",
       "      <td>0</td>\n",
       "      <td>2</td>\n",
       "      <td>0.047886</td>\n",
       "      <td>0.055432</td>\n",
       "      <td>1</td>\n",
       "      <td>0</td>\n",
       "      <td>4</td>\n",
       "      <td>0</td>\n",
       "      <td>0</td>\n",
       "      <td>0</td>\n",
       "      <td>0</td>\n",
       "      <td>5</td>\n",
       "      <td>0</td>\n",
       "      <td>5</td>\n",
       "    </tr>\n",
       "    <tr>\n",
       "      <th>1</th>\n",
       "      <td>0</td>\n",
       "      <td>0.777778</td>\n",
       "      <td>3</td>\n",
       "      <td>4</td>\n",
       "      <td>4</td>\n",
       "      <td>0.098881</td>\n",
       "      <td>0.048780</td>\n",
       "      <td>3</td>\n",
       "      <td>0</td>\n",
       "      <td>6</td>\n",
       "      <td>6</td>\n",
       "      <td>3</td>\n",
       "      <td>0</td>\n",
       "      <td>9</td>\n",
       "      <td>7</td>\n",
       "      <td>0</td>\n",
       "      <td>3</td>\n",
       "    </tr>\n",
       "    <tr>\n",
       "      <th>2</th>\n",
       "      <td>1</td>\n",
       "      <td>0.444444</td>\n",
       "      <td>2</td>\n",
       "      <td>3</td>\n",
       "      <td>4</td>\n",
       "      <td>0.035448</td>\n",
       "      <td>0.042129</td>\n",
       "      <td>1</td>\n",
       "      <td>2</td>\n",
       "      <td>5</td>\n",
       "      <td>0</td>\n",
       "      <td>0</td>\n",
       "      <td>3</td>\n",
       "      <td>7</td>\n",
       "      <td>5</td>\n",
       "      <td>4</td>\n",
       "      <td>3</td>\n",
       "    </tr>\n",
       "    <tr>\n",
       "      <th>3</th>\n",
       "      <td>1</td>\n",
       "      <td>0.255556</td>\n",
       "      <td>5</td>\n",
       "      <td>6</td>\n",
       "      <td>6</td>\n",
       "      <td>0.022388</td>\n",
       "      <td>0.026608</td>\n",
       "      <td>2</td>\n",
       "      <td>2</td>\n",
       "      <td>5</td>\n",
       "      <td>0</td>\n",
       "      <td>1</td>\n",
       "      <td>3</td>\n",
       "      <td>9</td>\n",
       "      <td>8</td>\n",
       "      <td>3</td>\n",
       "      <td>1</td>\n",
       "    </tr>\n",
       "    <tr>\n",
       "      <th>4</th>\n",
       "      <td>1</td>\n",
       "      <td>0.233333</td>\n",
       "      <td>1</td>\n",
       "      <td>2</td>\n",
       "      <td>3</td>\n",
       "      <td>0.009328</td>\n",
       "      <td>0.006652</td>\n",
       "      <td>0</td>\n",
       "      <td>2</td>\n",
       "      <td>4</td>\n",
       "      <td>0</td>\n",
       "      <td>0</td>\n",
       "      <td>3</td>\n",
       "      <td>6</td>\n",
       "      <td>3</td>\n",
       "      <td>4</td>\n",
       "      <td>1</td>\n",
       "    </tr>\n",
       "    <tr>\n",
       "      <th>...</th>\n",
       "      <td>...</td>\n",
       "      <td>...</td>\n",
       "      <td>...</td>\n",
       "      <td>...</td>\n",
       "      <td>...</td>\n",
       "      <td>...</td>\n",
       "      <td>...</td>\n",
       "      <td>...</td>\n",
       "      <td>...</td>\n",
       "      <td>...</td>\n",
       "      <td>...</td>\n",
       "      <td>...</td>\n",
       "      <td>...</td>\n",
       "      <td>...</td>\n",
       "      <td>...</td>\n",
       "      <td>...</td>\n",
       "      <td>...</td>\n",
       "    </tr>\n",
       "    <tr>\n",
       "      <th>14482</th>\n",
       "      <td>0</td>\n",
       "      <td>0.266667</td>\n",
       "      <td>0</td>\n",
       "      <td>3</td>\n",
       "      <td>3</td>\n",
       "      <td>0.012438</td>\n",
       "      <td>0.004435</td>\n",
       "      <td>1</td>\n",
       "      <td>1</td>\n",
       "      <td>3</td>\n",
       "      <td>6</td>\n",
       "      <td>0</td>\n",
       "      <td>0</td>\n",
       "      <td>9</td>\n",
       "      <td>0</td>\n",
       "      <td>5</td>\n",
       "      <td>5</td>\n",
       "    </tr>\n",
       "    <tr>\n",
       "      <th>14483</th>\n",
       "      <td>1</td>\n",
       "      <td>0.466667</td>\n",
       "      <td>1</td>\n",
       "      <td>1</td>\n",
       "      <td>3</td>\n",
       "      <td>0.015547</td>\n",
       "      <td>0.006652</td>\n",
       "      <td>1</td>\n",
       "      <td>0</td>\n",
       "      <td>5</td>\n",
       "      <td>6</td>\n",
       "      <td>0</td>\n",
       "      <td>0</td>\n",
       "      <td>3</td>\n",
       "      <td>3</td>\n",
       "      <td>0</td>\n",
       "      <td>5</td>\n",
       "    </tr>\n",
       "    <tr>\n",
       "      <th>14484</th>\n",
       "      <td>1</td>\n",
       "      <td>0.477778</td>\n",
       "      <td>0</td>\n",
       "      <td>1</td>\n",
       "      <td>3</td>\n",
       "      <td>0.024254</td>\n",
       "      <td>0.008869</td>\n",
       "      <td>0</td>\n",
       "      <td>1</td>\n",
       "      <td>3</td>\n",
       "      <td>6</td>\n",
       "      <td>0</td>\n",
       "      <td>0</td>\n",
       "      <td>3</td>\n",
       "      <td>0</td>\n",
       "      <td>9</td>\n",
       "      <td>5</td>\n",
       "    </tr>\n",
       "    <tr>\n",
       "      <th>14485</th>\n",
       "      <td>0</td>\n",
       "      <td>0.222222</td>\n",
       "      <td>3</td>\n",
       "      <td>3</td>\n",
       "      <td>3</td>\n",
       "      <td>0.117537</td>\n",
       "      <td>0.028825</td>\n",
       "      <td>3</td>\n",
       "      <td>0</td>\n",
       "      <td>7</td>\n",
       "      <td>1</td>\n",
       "      <td>3</td>\n",
       "      <td>0</td>\n",
       "      <td>9</td>\n",
       "      <td>9</td>\n",
       "      <td>0</td>\n",
       "      <td>3</td>\n",
       "    </tr>\n",
       "    <tr>\n",
       "      <th>14486</th>\n",
       "      <td>0</td>\n",
       "      <td>0.577778</td>\n",
       "      <td>2</td>\n",
       "      <td>2</td>\n",
       "      <td>4</td>\n",
       "      <td>0.088930</td>\n",
       "      <td>0.050998</td>\n",
       "      <td>1</td>\n",
       "      <td>1</td>\n",
       "      <td>5</td>\n",
       "      <td>6</td>\n",
       "      <td>0</td>\n",
       "      <td>0</td>\n",
       "      <td>5</td>\n",
       "      <td>5</td>\n",
       "      <td>3</td>\n",
       "      <td>3</td>\n",
       "    </tr>\n",
       "  </tbody>\n",
       "</table>\n",
       "<p>14487 rows × 17 columns</p>\n",
       "</div>"
      ],
      "text/plain": [
       "       gender    income  total_completed  total_viewed  total_received  \\\n",
       "0           0  0.911111                1             0               2   \n",
       "1           0  0.777778                3             4               4   \n",
       "2           1  0.444444                2             3               4   \n",
       "3           1  0.255556                5             6               6   \n",
       "4           1  0.233333                1             2               3   \n",
       "...       ...       ...              ...           ...             ...   \n",
       "14482       0  0.266667                0             3               3   \n",
       "14483       1  0.466667                1             1               3   \n",
       "14484       1  0.477778                0             1               3   \n",
       "14485       0  0.222222                3             3               3   \n",
       "14486       0  0.577778                2             2               4   \n",
       "\n",
       "       total_spent  avg_spent  completed_bogo  completed_discount  age_range  \\\n",
       "0         0.047886   0.055432               1                   0          4   \n",
       "1         0.098881   0.048780               3                   0          6   \n",
       "2         0.035448   0.042129               1                   2          5   \n",
       "3         0.022388   0.026608               2                   2          5   \n",
       "4         0.009328   0.006652               0                   2          4   \n",
       "...            ...        ...             ...                 ...        ...   \n",
       "14482     0.012438   0.004435               1                   1          3   \n",
       "14483     0.015547   0.006652               1                   0          5   \n",
       "14484     0.024254   0.008869               0                   1          3   \n",
       "14485     0.117537   0.028825               3                   0          7   \n",
       "14486     0.088930   0.050998               1                   1          5   \n",
       "\n",
       "       num_transactions_range  bogos_received_range  discounts_received_range  \\\n",
       "0                           0                     0                         0   \n",
       "1                           6                     3                         0   \n",
       "2                           0                     0                         3   \n",
       "3                           0                     1                         3   \n",
       "4                           0                     0                         3   \n",
       "...                       ...                   ...                       ...   \n",
       "14482                       6                     0                         0   \n",
       "14483                       6                     0                         0   \n",
       "14484                       6                     0                         0   \n",
       "14485                       1                     3                         0   \n",
       "14486                       6                     0                         0   \n",
       "\n",
       "       percent_viewed_range  percent_completed_range  \\\n",
       "0                         0                        5   \n",
       "1                         9                        7   \n",
       "2                         7                        5   \n",
       "3                         9                        8   \n",
       "4                         6                        3   \n",
       "...                     ...                      ...   \n",
       "14482                     9                        0   \n",
       "14483                     3                        3   \n",
       "14484                     3                        0   \n",
       "14485                     9                        9   \n",
       "14486                     5                        5   \n",
       "\n",
       "       discount_percent_completed_range  bogo_percent_completed_range  \n",
       "0                                     0                             5  \n",
       "1                                     0                             3  \n",
       "2                                     4                             3  \n",
       "3                                     3                             1  \n",
       "4                                     4                             1  \n",
       "...                                 ...                           ...  \n",
       "14482                                 5                             5  \n",
       "14483                                 0                             5  \n",
       "14484                                 9                             5  \n",
       "14485                                 0                             3  \n",
       "14486                                 3                             3  \n",
       "\n",
       "[14487 rows x 17 columns]"
      ]
     },
     "execution_count": 142,
     "metadata": {},
     "output_type": "execute_result"
    }
   ],
   "source": [
    "data = pd.read_csv('saved_progress/scaled_dataset.csv')\n",
    "data.drop(columns=[\"Unnamed: 0\" ], inplace=True)\n",
    "data"
   ]
  },
  {
   "cell_type": "code",
   "execution_count": 143,
   "id": "cd720f4f",
   "metadata": {},
   "outputs": [],
   "source": [
    "data = data.to_numpy()"
   ]
  },
  {
   "cell_type": "code",
   "execution_count": 153,
   "id": "c9b9119d",
   "metadata": {},
   "outputs": [
    {
     "data": {
      "text/plain": [
       "HDBSCAN(gen_min_span_tree=True, min_cluster_size=25)"
      ]
     },
     "execution_count": 153,
     "metadata": {},
     "output_type": "execute_result"
    }
   ],
   "source": [
    "clusterer = hdbscan.HDBSCAN(min_cluster_size=25, gen_min_span_tree=True)\n",
    "clusterer.fit(data)\n"
   ]
  },
  {
   "cell_type": "code",
   "execution_count": 154,
   "id": "3fb3307e",
   "metadata": {},
   "outputs": [
    {
     "data": {
      "text/plain": [
       "<AxesSubplot:>"
      ]
     },
     "execution_count": 154,
     "metadata": {},
     "output_type": "execute_result"
    },
    {
     "data": {
      "image/png": "[encoded data removed]",
      "text/plain": [
       "<Figure size 432x288 with 2 Axes>"
      ]
     },
     "metadata": {
      "needs_background": "light"
     },
     "output_type": "display_data"
    }
   ],
   "source": [
    "clusterer.minimum_spanning_tree_.plot(edge_cmap='viridis', \n",
    "                                      edge_alpha=0.6, \n",
    "                                      node_size=80, \n",
    "                                      edge_linewidth=2)"
   ]
  },
  {
   "cell_type": "code",
   "execution_count": 155,
   "id": "cf0d2888",
   "metadata": {},
   "outputs": [
    {
     "data": {
      "text/plain": [
       "array([-1,  2,  1,  0,  3])"
      ]
     },
     "execution_count": 155,
     "metadata": {},
     "output_type": "execute_result"
    }
   ],
   "source": [
    "labels = pd.DataFrame(clusterer.labels_)\n",
    "labels[0].unique()"
   ]
  },
  {
   "cell_type": "code",
   "execution_count": null,
   "id": "b8752e59",
   "metadata": {},
   "outputs": [],
   "source": []
  }
 ],
 "metadata": {
  "kernelspec": {
   "display_name": "conda_python3",
   "language": "python",
   "name": "conda_python3"
  },
  "language_info": {
   "codemirror_mode": {
    "name": "ipython",
    "version": 3
   },
   "file_extension": ".py",
   "mimetype": "text/x-python",
   "name": "python",
   "nbconvert_exporter": "python",
   "pygments_lexer": "ipython3",
   "version": "3.6.13"
  }
 },
 "nbformat": 4,
 "nbformat_minor": 5
}
